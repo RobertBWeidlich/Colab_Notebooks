{
  "nbformat": 4,
  "nbformat_minor": 0,
  "metadata": {
    "colab": {
      "provenance": [],
      "authorship_tag": "ABX9TyOMvcLl4BI9/2hvF2NKbrcE",
      "include_colab_link": true
    },
    "kernelspec": {
      "name": "python3",
      "display_name": "Python 3"
    },
    "language_info": {
      "name": "python"
    }
  },
  "cells": [
    {
      "cell_type": "markdown",
      "metadata": {
        "id": "view-in-github",
        "colab_type": "text"
      },
      "source": [
        "<a href=\"https://colab.research.google.com/github/RobertBWeidlich/Colab_Notebooks/blob/main/CnNB_099_IPv6.ipynb\" target=\"_parent\"><img src=\"https://colab.research.google.com/assets/colab-badge.svg\" alt=\"Open In Colab\"/></a>"
      ]
    },
    {
      "cell_type": "code",
      "execution_count": 1,
      "metadata": {
        "id": "O9v7Roxc1JJi"
      },
      "outputs": [],
      "source": [
        "# Mon Apr  3 16:35:37 EDT 2023\n",
        "import ipaddress\n",
        "import os\n",
        "import sys"
      ]
    },
    {
      "cell_type": "code",
      "source": [],
      "metadata": {
        "id": "KsgRAJI51Yke"
      },
      "execution_count": null,
      "outputs": []
    }
  ]
}