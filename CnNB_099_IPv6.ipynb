{
  "nbformat": 4,
  "nbformat_minor": 0,
  "metadata": {
    "colab": {
      "provenance": [],
      "authorship_tag": "ABX9TyNADT9Ugc5MLApd8b66Zh0y",
      "include_colab_link": true
    },
    "kernelspec": {
      "name": "python3",
      "display_name": "Python 3"
    },
    "language_info": {
      "name": "python"
    }
  },
  "cells": [
    {
      "cell_type": "markdown",
      "metadata": {
        "id": "view-in-github",
        "colab_type": "text"
      },
      "source": [
        "<a href=\"https://colab.research.google.com/github/RobertBWeidlich/Colab_Notebooks/blob/main/CnNB_099_IPv6.ipynb\" target=\"_parent\"><img src=\"https://colab.research.google.com/assets/colab-badge.svg\" alt=\"Open In Colab\"/></a>"
      ]
    },
    {
      "cell_type": "code",
      "execution_count": 3,
      "metadata": {
        "id": "O9v7Roxc1JJi"
      },
      "outputs": [],
      "source": [
        "# Mon Apr  3 16:35:37 EDT 2023\n",
        "import ipaddress\n",
        "import os\n",
        "import sys"
      ]
    },
    {
      "cell_type": "code",
      "source": [
        "ipv6_1_str = \"1111:2222:3333:4444:5555:6666:7777:8888\"\n",
        "ipv6_2_str = \"8888:9999:aaaa:bbbb:cccc:dddd:eeee:ffff\""
      ],
      "metadata": {
        "id": "KsgRAJI51Yke"
      },
      "execution_count": 6,
      "outputs": []
    },
    {
      "cell_type": "code",
      "source": [
        "# ipaddress object\n",
        "ipv6_1_ipa = ipaddress.IPv6Address(ipv6_1_str)\n",
        "ipv6_2_ipa = ipaddress.IPv6Address(ipv6_2_str)\n",
        "print(ipv6_1_ipa)\n",
        "print(ipv6_2_ipa)"
      ],
      "metadata": {
        "colab": {
          "base_uri": "https://localhost:8080/"
        },
        "id": "Gc6g471R1xRj",
        "outputId": "ed02bb2e-9d7f-4500-d548-36c1c2c23c10"
      },
      "execution_count": 7,
      "outputs": [
        {
          "output_type": "stream",
          "name": "stdout",
          "text": [
            "1111:2222:3333:4444:5555:6666:7777:8888\n",
            "8888:9999:aaaa:bbbb:cccc:dddd:eeee:ffff\n"
          ]
        }
      ]
    },
    {
      "cell_type": "code",
      "source": [
        "# 128 bit integers\n",
        "ipv6_1_int = int(ipv6_1_ipa)\n",
        "ipv6_2_int = int(ipv6_2_ipa)\n",
        "print(ipv6_1_int)\n",
        "print(ipv6_2_int)"
      ],
      "metadata": {
        "colab": {
          "base_uri": "https://localhost:8080/"
        },
        "id": "E4ilJ48q2Qhg",
        "outputId": "d37b4c52-2139-4db9-9217-b60745a433e0"
      },
      "execution_count": 10,
      "outputs": [
        {
          "output_type": "stream",
          "name": "stdout",
          "text": [
            "22685837286468424649968941046919825544\n",
            "181484275182906374266210424515078324223\n"
          ]
        }
      ]
    },
    {
      "cell_type": "code",
      "source": [
        "# given a 32\n",
        "def twos_complement_32bit(i):"
      ],
      "metadata": {
        "id": "CQGr4EaVG6MO"
      },
      "execution_count": null,
      "outputs": []
    },
    {
      "cell_type": "code",
      "source": [
        "# break into two 64-bit integers\n",
        "# lower\n",
        "ipv6_2_int_lower = ipv6_2_int & 0xffffffffffffffff\n",
        "print(f\"1: {ipv6_2_int_lower}\")\n",
        "print(f\"2: {hex(ipv6_2_int_lower)}\")\n",
        "if ipv6_2_int_lower & 0x8000000000000000:\n",
        "  # if a negative number, convert to positive equivalent, that is,\n",
        "  # generate the two's complement\n",
        "  #ipv6_2_int_lower &= 0x7fffffffffffffff\n",
        "  ipv6_2_int_lower ^= 0xffffffffffffffff \n",
        "  print(f\"3: {hex(ipv6_2_int_lower)}\")\n",
        "  print(f\"4: {ipv6_2_int_lower}\")\n",
        "  #ipv6_2_int_lower -= 1 \n",
        "  print(f\"5: {hex(ipv6_2_int_lower)}\")\n",
        "  ipv6_2_int_lower = -ipv6_2_int_lower\n",
        "  print(f\"6: {hex(ipv6_2_int_lower)}\")\n",
        "  print(f\"7: {ipv6_2_int_lower}\")\n",
        "# now do lower"
      ],
      "metadata": {
        "colab": {
          "base_uri": "https://localhost:8080/"
        },
        "id": "CDXZeFud2j2C",
        "outputId": "d341b8de-461c-4726-8375-6e0e211c8ee4"
      },
      "execution_count": 45,
      "outputs": [
        {
          "output_type": "stream",
          "name": "stdout",
          "text": [
            "1: 14757414024252424191\n",
            "2: 0xccccddddeeeeffff\n",
            "3: 0x3333222211110000\n",
            "4: 3689330049457127424\n",
            "5: 0x3333222211110000\n",
            "6: -0x3333222211110000\n",
            "7: -3689330049457127424\n"
          ]
        }
      ]
    },
    {
      "cell_type": "code",
      "source": [
        "# test conversion -3689330049457127424 to hex\n",
        "i32 = -3689330049457127424 \n",
        "print(f\"1: {hex(i32)}\")\n"
      ],
      "metadata": {
        "colab": {
          "base_uri": "https://localhost:8080/"
        },
        "id": "NL6gCImOGahM",
        "outputId": "84972c59-17dc-44bb-fb70-9e39d2189cdd"
      },
      "execution_count": 47,
      "outputs": [
        {
          "output_type": "stream",
          "name": "stdout",
          "text": [
            "1: -0x3333222211110000\n"
          ]
        }
      ]
    },
    {
      "cell_type": "code",
      "source": [],
      "metadata": {
        "id": "FQx8zklZNo_v"
      },
      "execution_count": null,
      "outputs": []
    }
  ]
}