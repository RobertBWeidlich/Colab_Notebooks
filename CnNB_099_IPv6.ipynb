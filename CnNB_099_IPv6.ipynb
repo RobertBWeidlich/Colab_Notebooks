{
  "nbformat": 4,
  "nbformat_minor": 0,
  "metadata": {
    "colab": {
      "provenance": [],
      "authorship_tag": "ABX9TyPxCTpT6naNm3MEBL9TPGOm",
      "include_colab_link": true
    },
    "kernelspec": {
      "name": "python3",
      "display_name": "Python 3"
    },
    "language_info": {
      "name": "python"
    }
  },
  "cells": [
    {
      "cell_type": "markdown",
      "metadata": {
        "id": "view-in-github",
        "colab_type": "text"
      },
      "source": [
        "<a href=\"https://colab.research.google.com/github/RobertBWeidlich/Colab_Notebooks/blob/main/CnNB_099_IPv6.ipynb\" target=\"_parent\"><img src=\"https://colab.research.google.com/assets/colab-badge.svg\" alt=\"Open In Colab\"/></a>"
      ]
    },
    {
      "cell_type": "code",
      "execution_count": 3,
      "metadata": {
        "id": "O9v7Roxc1JJi"
      },
      "outputs": [],
      "source": [
        "# Mon Apr  3 16:35:37 EDT 2023\n",
        "import ipaddress\n",
        "import os\n",
        "import sys"
      ]
    },
    {
      "cell_type": "code",
      "source": [
        "ipv6_1_str = \"1111:2222:3333:4444:5555:6666:7777:8888\"\n",
        "ipv6_2_str = \"8888:9999:aaaa:bbbb:cccc:dddd:eeee:ffff\""
      ],
      "metadata": {
        "id": "KsgRAJI51Yke"
      },
      "execution_count": 6,
      "outputs": []
    },
    {
      "cell_type": "code",
      "source": [
        "# ipaddress object\n",
        "ipv6_1_ipa = ipaddress.IPv6Address(ipv6_1_str)\n",
        "ipv6_2_ipa = ipaddress.IPv6Address(ipv6_2_str)\n",
        "print(ipv6_1_ipa)\n",
        "print(ipv6_2_ipa)"
      ],
      "metadata": {
        "id": "Gc6g471R1xRj",
        "outputId": "ed02bb2e-9d7f-4500-d548-36c1c2c23c10",
        "colab": {
          "base_uri": "https://localhost:8080/"
        }
      },
      "execution_count": 7,
      "outputs": [
        {
          "output_type": "stream",
          "name": "stdout",
          "text": [
            "1111:2222:3333:4444:5555:6666:7777:8888\n",
            "8888:9999:aaaa:bbbb:cccc:dddd:eeee:ffff\n"
          ]
        }
      ]
    },
    {
      "cell_type": "code",
      "source": [
        "# 128 bit integers\n",
        "ipv6_1_int = int(ipv6_1_ipa)\n",
        "ipv6_2_int = int(ipv6_2_ipa)\n",
        "print(ipv6_1_int)\n",
        "print(ipv6_2_int)"
      ],
      "metadata": {
        "id": "E4ilJ48q2Qhg",
        "outputId": "d37b4c52-2139-4db9-9217-b60745a433e0",
        "colab": {
          "base_uri": "https://localhost:8080/"
        }
      },
      "execution_count": 10,
      "outputs": [
        {
          "output_type": "stream",
          "name": "stdout",
          "text": [
            "22685837286468424649968941046919825544\n",
            "181484275182906374266210424515078324223\n"
          ]
        }
      ]
    },
    {
      "cell_type": "code",
      "source": [
        "# break into two 64-bit integers\n",
        "# lower\n",
        "ipv6_2_int_lower = ipv6_2_int & 0xffffffffffffffff\n",
        "print(ipv6_2_int_lower)\n",
        "print(hex(ipv6_2_int_lower))\n",
        "if ipv6_2_int_lower & 0x8000000000000000:\n",
        "  # if a negative number, convert to positive equivalent, that is,\n",
        "  # generate the two's complement\n",
        "  #ipv6_2_int_lower &= 0x7fffffffffffffff\n",
        "  ipv6_2_int_lower ^= 0xffffffffffffffff\n",
        "  print(hex(ipv6_2_int_lower))\n",
        "  ipv6_2_int_lower -= 1\n",
        "  print(hex(ipv6_2_int_lower))\n",
        "  ipv6_2_int_lower = -ipv6_2_int_lower\n",
        "  print(hex(ipv6_2_int_lower))\n",
        "  print(ipv6_2_int_lower)"
      ],
      "metadata": {
        "id": "CDXZeFud2j2C",
        "outputId": "6996302e-d57a-4acf-a4bc-e914c66f2e92",
        "colab": {
          "base_uri": "https://localhost:8080/"
        }
      },
      "execution_count": 20,
      "outputs": [
        {
          "output_type": "stream",
          "name": "stdout",
          "text": [
            "14757414024252424191\n",
            "0xccccddddeeeeffff\n",
            "0x3333222211110000\n",
            "0x333322221110ffff\n",
            "-0x333322221110ffff\n"
          ]
        }
      ]
    },
    {
      "cell_type": "code",
      "source": [],
      "metadata": {
        "id": "YZb3yqNN31lG"
      },
      "execution_count": null,
      "outputs": []
    }
  ]
}