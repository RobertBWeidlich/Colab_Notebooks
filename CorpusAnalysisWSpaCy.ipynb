{
  "nbformat": 4,
  "nbformat_minor": 0,
  "metadata": {
    "colab": {
      "provenance": [],
      "authorship_tag": "ABX9TyMx040lppl469FpHF8B/AY6",
      "include_colab_link": true
    },
    "kernelspec": {
      "name": "python3",
      "display_name": "Python 3"
    },
    "language_info": {
      "name": "python"
    }
  },
  "cells": [
    {
      "cell_type": "markdown",
      "metadata": {
        "id": "view-in-github",
        "colab_type": "text"
      },
      "source": [
        "<a href=\"https://colab.research.google.com/github/RobertBWeidlich/Colab_Notebooks/blob/main/CorpusAnalysisWSpaCy.ipynb\" target=\"_parent\"><img src=\"https://colab.research.google.com/assets/colab-badge.svg\" alt=\"Open In Colab\"/></a>"
      ]
    },
    {
      "cell_type": "code",
      "source": [
        "# Corpus Analysis with spaCy\n",
        "#\n",
        "# Thu Nov  9 18:57:00 EST 2023\n",
        "#\n",
        "# Megan S. Kane ORCID id icon\n",
        "#\n",
        "# This lesson demonstrates how to use the Python library spaCy for analysis of\n",
        "# large collections of texts. This lesson details the process of using spaCy\n",
        "# to enrich a corpus via lemmatization, part-of-speech tagging, dependency\n",
        "# parsing, and named entity recognition. Readers will learn how the\n",
        "# linguistic annotations produced by spaCy can be analyzed to help\n",
        "# researchers explore meaningful trends in language patterns across a set\n",
        "# of texts.\n",
        "#\n",
        "# https://programminghistorian.org/en/lessons/corpus-analysis-with-spacy\n",
        "#"
      ],
      "metadata": {
        "id": "5Yh7Fs62jb3N"
      },
      "execution_count": 1,
      "outputs": []
    },
    {
      "cell_type": "markdown",
      "source": [],
      "metadata": {
        "id": "bgg_s4ubjkiG"
      }
    },
    {
      "cell_type": "markdown",
      "source": [],
      "metadata": {
        "id": "qq00AA-O8Apn"
      }
    },
    {
      "cell_type": "code",
      "source": [
        "import spacy\n",
        "from spacy import displacy\n",
        "import os\n",
        "import pandas as pd\n",
        "import plotly.graph_objects as go\n",
        "import plotly.express as px\n",
        "from google.colab import files\n"
      ],
      "metadata": {
        "id": "pdHvXijl3kfC"
      },
      "execution_count": 2,
      "outputs": []
    },
    {
      "cell_type": "code",
      "source": [
        "# 1. upload files from local system - select manually\n",
        "import json\n",
        "\n",
        "uploaded_files = files.upload()\n",
        "for fn in uploaded_files.keys():\n",
        "  print(f\"fn: \\\"{fn}\\\"\")\n",
        "  print(f\"len: {len(uploaded_files[fn])}\")\n"
      ],
      "metadata": {
        "colab": {
          "base_uri": "https://localhost:8080/",
          "height": 242
        },
        "id": "EDDv4LCpjvPg",
        "outputId": "cdcf87f3-ad62-4652-a012-f8ce98b72654"
      },
      "execution_count": 3,
      "outputs": [
        {
          "output_type": "display_data",
          "data": {
            "text/plain": [
              "<IPython.core.display.HTML object>"
            ],
            "text/html": [
              "\n",
              "     <input type=\"file\" id=\"files-bb48cd75-7709-454e-917e-21899424d400\" name=\"files[]\" multiple disabled\n",
              "        style=\"border:none\" />\n",
              "     <output id=\"result-bb48cd75-7709-454e-917e-21899424d400\">\n",
              "      Upload widget is only available when the cell has been executed in the\n",
              "      current browser session. Please rerun this cell to enable.\n",
              "      </output>\n",
              "      <script>// Copyright 2017 Google LLC\n",
              "//\n",
              "// Licensed under the Apache License, Version 2.0 (the \"License\");\n",
              "// you may not use this file except in compliance with the License.\n",
              "// You may obtain a copy of the License at\n",
              "//\n",
              "//      http://www.apache.org/licenses/LICENSE-2.0\n",
              "//\n",
              "// Unless required by applicable law or agreed to in writing, software\n",
              "// distributed under the License is distributed on an \"AS IS\" BASIS,\n",
              "// WITHOUT WARRANTIES OR CONDITIONS OF ANY KIND, either express or implied.\n",
              "// See the License for the specific language governing permissions and\n",
              "// limitations under the License.\n",
              "\n",
              "/**\n",
              " * @fileoverview Helpers for google.colab Python module.\n",
              " */\n",
              "(function(scope) {\n",
              "function span(text, styleAttributes = {}) {\n",
              "  const element = document.createElement('span');\n",
              "  element.textContent = text;\n",
              "  for (const key of Object.keys(styleAttributes)) {\n",
              "    element.style[key] = styleAttributes[key];\n",
              "  }\n",
              "  return element;\n",
              "}\n",
              "\n",
              "// Max number of bytes which will be uploaded at a time.\n",
              "const MAX_PAYLOAD_SIZE = 100 * 1024;\n",
              "\n",
              "function _uploadFiles(inputId, outputId) {\n",
              "  const steps = uploadFilesStep(inputId, outputId);\n",
              "  const outputElement = document.getElementById(outputId);\n",
              "  // Cache steps on the outputElement to make it available for the next call\n",
              "  // to uploadFilesContinue from Python.\n",
              "  outputElement.steps = steps;\n",
              "\n",
              "  return _uploadFilesContinue(outputId);\n",
              "}\n",
              "\n",
              "// This is roughly an async generator (not supported in the browser yet),\n",
              "// where there are multiple asynchronous steps and the Python side is going\n",
              "// to poll for completion of each step.\n",
              "// This uses a Promise to block the python side on completion of each step,\n",
              "// then passes the result of the previous step as the input to the next step.\n",
              "function _uploadFilesContinue(outputId) {\n",
              "  const outputElement = document.getElementById(outputId);\n",
              "  const steps = outputElement.steps;\n",
              "\n",
              "  const next = steps.next(outputElement.lastPromiseValue);\n",
              "  return Promise.resolve(next.value.promise).then((value) => {\n",
              "    // Cache the last promise value to make it available to the next\n",
              "    // step of the generator.\n",
              "    outputElement.lastPromiseValue = value;\n",
              "    return next.value.response;\n",
              "  });\n",
              "}\n",
              "\n",
              "/**\n",
              " * Generator function which is called between each async step of the upload\n",
              " * process.\n",
              " * @param {string} inputId Element ID of the input file picker element.\n",
              " * @param {string} outputId Element ID of the output display.\n",
              " * @return {!Iterable<!Object>} Iterable of next steps.\n",
              " */\n",
              "function* uploadFilesStep(inputId, outputId) {\n",
              "  const inputElement = document.getElementById(inputId);\n",
              "  inputElement.disabled = false;\n",
              "\n",
              "  const outputElement = document.getElementById(outputId);\n",
              "  outputElement.innerHTML = '';\n",
              "\n",
              "  const pickedPromise = new Promise((resolve) => {\n",
              "    inputElement.addEventListener('change', (e) => {\n",
              "      resolve(e.target.files);\n",
              "    });\n",
              "  });\n",
              "\n",
              "  const cancel = document.createElement('button');\n",
              "  inputElement.parentElement.appendChild(cancel);\n",
              "  cancel.textContent = 'Cancel upload';\n",
              "  const cancelPromise = new Promise((resolve) => {\n",
              "    cancel.onclick = () => {\n",
              "      resolve(null);\n",
              "    };\n",
              "  });\n",
              "\n",
              "  // Wait for the user to pick the files.\n",
              "  const files = yield {\n",
              "    promise: Promise.race([pickedPromise, cancelPromise]),\n",
              "    response: {\n",
              "      action: 'starting',\n",
              "    }\n",
              "  };\n",
              "\n",
              "  cancel.remove();\n",
              "\n",
              "  // Disable the input element since further picks are not allowed.\n",
              "  inputElement.disabled = true;\n",
              "\n",
              "  if (!files) {\n",
              "    return {\n",
              "      response: {\n",
              "        action: 'complete',\n",
              "      }\n",
              "    };\n",
              "  }\n",
              "\n",
              "  for (const file of files) {\n",
              "    const li = document.createElement('li');\n",
              "    li.append(span(file.name, {fontWeight: 'bold'}));\n",
              "    li.append(span(\n",
              "        `(${file.type || 'n/a'}) - ${file.size} bytes, ` +\n",
              "        `last modified: ${\n",
              "            file.lastModifiedDate ? file.lastModifiedDate.toLocaleDateString() :\n",
              "                                    'n/a'} - `));\n",
              "    const percent = span('0% done');\n",
              "    li.appendChild(percent);\n",
              "\n",
              "    outputElement.appendChild(li);\n",
              "\n",
              "    const fileDataPromise = new Promise((resolve) => {\n",
              "      const reader = new FileReader();\n",
              "      reader.onload = (e) => {\n",
              "        resolve(e.target.result);\n",
              "      };\n",
              "      reader.readAsArrayBuffer(file);\n",
              "    });\n",
              "    // Wait for the data to be ready.\n",
              "    let fileData = yield {\n",
              "      promise: fileDataPromise,\n",
              "      response: {\n",
              "        action: 'continue',\n",
              "      }\n",
              "    };\n",
              "\n",
              "    // Use a chunked sending to avoid message size limits. See b/62115660.\n",
              "    let position = 0;\n",
              "    do {\n",
              "      const length = Math.min(fileData.byteLength - position, MAX_PAYLOAD_SIZE);\n",
              "      const chunk = new Uint8Array(fileData, position, length);\n",
              "      position += length;\n",
              "\n",
              "      const base64 = btoa(String.fromCharCode.apply(null, chunk));\n",
              "      yield {\n",
              "        response: {\n",
              "          action: 'append',\n",
              "          file: file.name,\n",
              "          data: base64,\n",
              "        },\n",
              "      };\n",
              "\n",
              "      let percentDone = fileData.byteLength === 0 ?\n",
              "          100 :\n",
              "          Math.round((position / fileData.byteLength) * 100);\n",
              "      percent.textContent = `${percentDone}% done`;\n",
              "\n",
              "    } while (position < fileData.byteLength);\n",
              "  }\n",
              "\n",
              "  // All done.\n",
              "  yield {\n",
              "    response: {\n",
              "      action: 'complete',\n",
              "    }\n",
              "  };\n",
              "}\n",
              "\n",
              "scope.google = scope.google || {};\n",
              "scope.google.colab = scope.google.colab || {};\n",
              "scope.google.colab._files = {\n",
              "  _uploadFiles,\n",
              "  _uploadFilesContinue,\n",
              "};\n",
              "})(self);\n",
              "</script> "
            ]
          },
          "metadata": {}
        },
        {
          "output_type": "stream",
          "name": "stdout",
          "text": [
            "Saving cn_rss_proc-20230816.json to cn_rss_proc-20230816.json\n",
            "Saving cn_rss_proc-20230817.json to cn_rss_proc-20230817.json\n",
            "Saving cn_rss_proc-20230818.json to cn_rss_proc-20230818.json\n",
            "fn: \"cn_rss_proc-20230816.json\"\n",
            "len: 6300316\n",
            "fn: \"cn_rss_proc-20230817.json\"\n",
            "len: 6432850\n",
            "fn: \"cn_rss_proc-20230818.json\"\n",
            "len: 6253551\n"
          ]
        }
      ]
    },
    {
      "cell_type": "code",
      "source": [
        "import tempfile\n",
        "\n",
        "def clean_cn_rss_json_file(filename: str) -> bool:\n",
        "  # data files have comment lines (first line is '#' character), which\n",
        "  # is not standard JSON, so they have to be removed.\n",
        "  import os\n",
        "  import shutil\n",
        "\n",
        "  # 1. move cn_rss_proc-20230817.json to cn_rss_proc-20230817.json-orig\n",
        "  orig_filename = f\"{filename}-orig\"\n",
        "  #print(filename)\n",
        "  #print(orig_filename)\n",
        "  print(f\"moving \\\"{filename}\\\" --> \\\"{orig_filename}\\\"\")\n",
        "  shutil.move(filename, orig_filename)\n",
        "\n",
        "  # 2. cn_rss_proc-20230817.json-orig -> [filter] -> cn_rss_proc-20230817.json\n",
        "  with open(orig_filename) as ifp:\n",
        "    with open(filename, \"w\") as ofp:\n",
        "      # 2a. iterate line by line\n",
        "      for line in ifp:\n",
        "        # note: retaining original new line at end of string\n",
        "        #print(f\"len: {len(line)}\")\n",
        "        #print(f\">>>{line}<<<\")\n",
        "        if (len(line) > 0) and (line[0] != '#'):\n",
        "          # note - \" #\" line not a comment, \"# \" IS a comment\n",
        "          #print(\"printing to output\")\n",
        "          ofp.write(line)\n",
        "\n",
        "  # 3. delete cn_rss_proc-20230817.json-orig??\n",
        "\n",
        "###clean_cn_rss_json_file(\"cn_rss_proc-20230817.json\")\n",
        "##clean_cn_rss_json_file(\"c:\\\\\\cn_rss_proc-20231105.json\")\n",
        "##clean_cn_rss_json_file(\"cn_rss_proc-20231105.json\")\n",
        "#clean_cn_rss_json_file(\"cn_rss_proc-20230817.json\")"
      ],
      "metadata": {
        "id": "BsuORWNd8uzM"
      },
      "execution_count": 4,
      "outputs": []
    },
    {
      "cell_type": "code",
      "source": [
        "# 2. clean non-JSON comments from data files\n",
        "for fn in uploaded_files.keys():\n",
        "  print(f\"fn: \\\"{fn}\\\"\")\n",
        "  print(f\"len: {len(uploaded_files[fn])}\")\n",
        "  clean_cn_rss_json_file(fn)"
      ],
      "metadata": {
        "id": "re334MaG-8XF"
      },
      "execution_count": null,
      "outputs": []
    },
    {
      "cell_type": "code",
      "source": [],
      "metadata": {
        "id": "QZDZ0nfs_Zxe"
      },
      "execution_count": null,
      "outputs": []
    }
  ]
}