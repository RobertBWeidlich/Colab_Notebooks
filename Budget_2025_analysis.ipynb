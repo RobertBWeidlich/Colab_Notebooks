{
  "cells": [
    {
      "cell_type": "markdown",
      "metadata": {
        "id": "view-in-github",
        "colab_type": "text"
      },
      "source": [
        "<a href=\"https://colab.research.google.com/github/RobertBWeidlich/Colab_Notebooks/blob/main/Budget_2025_analysis.ipynb\" target=\"_parent\"><img src=\"https://colab.research.google.com/assets/colab-badge.svg\" alt=\"Open In Colab\"/></a>"
      ]
    },
    {
      "cell_type": "code",
      "execution_count": null,
      "metadata": {
        "id": "aJ9TxnuYb9CL",
        "collapsed": true
      },
      "outputs": [],
      "source": [
        "#\n",
        "# 1. manually export data from XLS to CSV file:\n",
        "# (in Excel)\n",
        "#   Excel -> Open sheet to be analyzed -> File -> Export ->\n",
        "#       Change File Type -> CSV\n",
        "\n",
        "\n",
        "# move csv data from local Windows host to local linux server\n",
        "# for analysis\n",
        "\n",
        "from google.colab import files\n",
        "uploaded = files.upload()\n",
        "print(uploaded)\n",
        "file_name = next(iter(uploaded))\n",
        "#data = uploaded[file_name]\n",
        "#print(data)"
      ]
    },
    {
      "cell_type": "code",
      "execution_count": null,
      "metadata": {
        "id": "8SD1QK4Pcmqj"
      },
      "outputs": [],
      "source": [
        "\"\"\"\n",
        "type(uploaded)\n",
        "import pprint as pp\n",
        "#pp.pprint(uploaded)\n",
        "kk = uploaded.keys()\n",
        "print(type(kk))\n",
        "print(kk)\n",
        "file_name = next(iter(uploaded))\n",
        "print(file_name)\n",
        "\"\"\""
      ]
    },
    {
      "cell_type": "code",
      "source": [
        "# 2. load data into pandas and print it out.\n",
        "import pandas as pd\n",
        "\n",
        "dtype_spec = {\n",
        "    \"Description\": str,\n",
        "    \"Category\": str,\n",
        "    \"Source Account\": str,\n",
        "    \"Check #\": \"Int64\",     # Use nullable integer type\n",
        "    \"Priority\": \"Int64\",\n",
        "    \"Amount\": float\n",
        "}\n",
        "\n",
        "df = pd.read_csv(file_name,\n",
        "                 encoding=\"cp1252\",\n",
        "                 usecols=range(8))\n",
        "\n",
        "#df = pd.read_csv(file_name, dtype=dtype_spec, parse_dates=[\"Timestamp\"])\n",
        "\n",
        "print(df.dtypes)\n",
        "\n",
        "# drop all rows where all cells are NaN\n",
        "df = df.dropna(how='all')\n",
        "\n",
        "# set \"Check #\" column to integer\n",
        "# openai - doesn't work\n",
        "#df[\"Check #\"] = pd.to_numeric(df[\"Check #\"], errors=\"coerce\").astype(\"Int64\")\n",
        "# gemini - doesn't work\n",
        "#df[\"Check #\"] = pd.to_numeric(df[\"Check #\"], errors=\"coerce\").astype(\"Int64\")\n",
        "\n",
        "# this does not work with colab\n",
        "# with pd.option_context('display.max_rows', None, 'display.max_columns', None):\n",
        "#  print(df)\n",
        "# this DOES work with colab\n",
        "#print(df.to_string())\n",
        "print(df.head(20).to_string())\n"
      ],
      "metadata": {
        "id": "6GnTl9vhdWhh"
      },
      "execution_count": null,
      "outputs": []
    },
    {
      "cell_type": "code",
      "source": [
        "# 3. sort by the \"Category\" column to check for variations category names\n",
        "df_sorted = df.sort_values(by=\"Category\", ascending=True)\n",
        "#print(df_sorted.head(20).to_string())\n",
        "print(df_sorted.head(5000).to_string())"
      ],
      "metadata": {
        "id": "wTYqJbv-xkC6"
      },
      "execution_count": null,
      "outputs": []
    },
    {
      "cell_type": "code",
      "source": [
        "# 4. now sort by the \"Source Account\" column to check for variations\n",
        "df_sorted = df.sort_values(by=\"Source Account\", ascending=True)\n",
        "#print(df_sorted.head(20).to_string())\n",
        "print(df_sorted.head(5000).to_string())"
      ],
      "metadata": {
        "id": "pB8hcOxJ2S9q"
      },
      "execution_count": null,
      "outputs": []
    },
    {
      "cell_type": "code",
      "source": [
        "\n",
        "# take a list of numbers in various formats (\"1\", \"1.00\", \"$1.00\")\n",
        "# and return sum in currency format\n",
        "# NOTE: don't use this; instead use:\n",
        "#   [68.93, 12.50, 100.25]\n",
        "#\n",
        "def sum_of_list_currency_format(cur_list):\n",
        "  sum = 0.0\n",
        "  for cur in cur_list:\n",
        "    #print(type(cur))\n",
        "    if type(cur) == str:\n",
        "      cur = cur.replace('$', '').replace(',', '')\n",
        "    sum += float(cur)\n",
        "  return(round(sum, 2))\n",
        "\n",
        "test_cur_list = [\"13.00\", \"$54.98\", 1]\n",
        "sum_of_list_currency_format(test_cur_list)"
      ],
      "metadata": {
        "id": "QCeYJx5VRG8T",
        "collapsed": true
      },
      "execution_count": null,
      "outputs": []
    },
    {
      "cell_type": "code",
      "source": [
        "# 5. Analysis: for each \"Category\" column, find sum of \"Amount\" column\n",
        "#\n",
        "# 5A. set some columns to lower case\n",
        "#print(type(df['Category'].astype(str).str.lower()))\n",
        "df['Category'] = df['Category'].astype(str).str.lower()\n",
        "\n",
        "# 5B. get list of unique categories and unique major-categories.\n",
        "#     for a category \"abc-345\", \"abc\" is the major category.\n",
        "#\n",
        "unique_categories = sorted(df['Category'].unique().tolist())\n",
        "print(\"unique_categories:\")\n",
        "print(unique_categories)\n",
        "print(\"unique_major_categories:\")\n",
        "unique_major_categories = sorted(set(item.split('-')[0] for item in unique_categories))\n",
        "print(unique_major_categories)"
      ],
      "metadata": {
        "id": "CZeMcC44Ekv7"
      },
      "execution_count": null,
      "outputs": []
    },
    {
      "cell_type": "code",
      "source": [
        "# 6. for each category, print all records matching that category, along with the sum:\n",
        "acc_cat_sums = [] # accumulate data, implemented as list of tuples.\n",
        "                  # each tuple contains a category and the sum\n",
        "                  # off all entries in that category\n",
        "num_months = 3.0  # how many months of data\n",
        "\n",
        "sum_per_month = 0.0\n",
        "agg_sum = 0.0\n",
        "agg_sum_per_month = 0.0\n",
        "for cat in unique_categories:\n",
        "  print()\n",
        "  print(f\"category: {cat}\")\n",
        "  print(\"========\")\n",
        "  filtered_df = df[df['Category'].str.lower() == cat]\n",
        "  print(filtered_df.head(500).to_string())\n",
        "  # get sum of \"Amount\" column using sum_of_list_currency_format()\n",
        "  amount_list = filtered_df[\"Amount\"].tolist()\n",
        "  #print(amount_list)\n",
        "  sum = sum_of_list_currency_format(amount_list)\n",
        "  sum_per_month = sum / num_months\n",
        "  print(f\"sum: {sum}\")\n",
        "  print(f\"sum_per_month: {sum_per_month}\")\n",
        "  acc_cat_sums.append((cat, sum, sum_per_month))\n",
        "  agg_sum += sum\n",
        "  agg_sum_per_month += sum_per_month\n",
        "  print(\"========\")\n",
        "print(\"########\")\n",
        "print(acc_cat_sums)\n",
        "print(agg_sum)\n",
        "print(agg_sum_per_month)\n",
        "print(\"########\")\n",
        "# print summary\n",
        "print()\n",
        "for ac_sum in acc_cat_sums:\n",
        "\n",
        "\n",
        "  v1 = ac_sum[0]\n",
        "  v1 = f\"{v1:<20}\"\n",
        "  v2 = ac_sum[1]\n",
        "  v2 = f\"{v2:12.2f}\"\n",
        "  v3 = ac_sum[2]\n",
        "  v3 = f\"{v3:12.2f}\"\n",
        "  #print(ac_sum)\n",
        "  print(f\"  {v1} {v2} {v3}\")\n"
      ],
      "metadata": {
        "id": "i_1FhhxWsoOk"
      },
      "execution_count": null,
      "outputs": []
    },
    {
      "cell_type": "code",
      "source": [],
      "metadata": {
        "id": "OlMoZZ2CZE9L"
      },
      "execution_count": null,
      "outputs": []
    },
    {
      "cell_type": "code",
      "source": [],
      "metadata": {
        "id": "MrRSTl87gnd3"
      },
      "execution_count": null,
      "outputs": []
    }
  ],
  "metadata": {
    "colab": {
      "provenance": [],
      "authorship_tag": "ABX9TyMTvKhxlsY3mmQ+o2KTHCBJ",
      "include_colab_link": true
    },
    "kernelspec": {
      "display_name": "Python 3",
      "name": "python3"
    },
    "language_info": {
      "name": "python"
    }
  },
  "nbformat": 4,
  "nbformat_minor": 0
}