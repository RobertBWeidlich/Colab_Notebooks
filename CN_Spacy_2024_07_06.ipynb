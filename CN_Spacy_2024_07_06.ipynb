{
  "nbformat": 4,
  "nbformat_minor": 0,
  "metadata": {
    "colab": {
      "provenance": [],
      "authorship_tag": "ABX9TyN2F2JqxoRFwVs3u5keduiN",
      "include_colab_link": true
    },
    "kernelspec": {
      "name": "python3",
      "display_name": "Python 3"
    },
    "language_info": {
      "name": "python"
    }
  },
  "cells": [
    {
      "cell_type": "markdown",
      "metadata": {
        "id": "view-in-github",
        "colab_type": "text"
      },
      "source": [
        "<a href=\"https://colab.research.google.com/github/RobertBWeidlich/Colab_Notebooks/blob/main/CN_Spacy_2024_07_06.ipynb\" target=\"_parent\"><img src=\"https://colab.research.google.com/assets/colab-badge.svg\" alt=\"Open In Colab\"/></a>"
      ]
    },
    {
      "cell_type": "code",
      "execution_count": 1,
      "metadata": {
        "id": "-n3MEqpLmemL"
      },
      "outputs": [],
      "source": [
        "\"\"\"\n",
        "CN_Spacy_2024_07_05.ipynb\n",
        "\n",
        "Purpose: Analyze CN data with Spacy and other NLP tools\n",
        "\n",
        "  Jupyter notebook:\n",
        "    -- stored in github\n",
        "    -- run in colab.research.google.com\n",
        "\n",
        "  Data:\n",
        "    -- created on weidlich@192.168.1.206\n",
        "    -- stored on digital ocean - weidlich@157.245.212.244\n",
        "\"\"\"\n",
        "pass"
      ]
    },
    {
      "cell_type": "code",
      "source": [
        "\"\"\"\n",
        "First time Initialization of CN data\n",
        "\n",
        "  1. Generate data\n",
        "    ssh weidlich@157.245.212.244\n",
        "    cd /data1/cn/\n",
        "    tar cvfz /tmp/cn_data_2024-07-02--2024-07-04.tar ./rss_raw/2024/07/02 \\\n",
        "        ./rss_raw/2024/07/03 ./rss_raw/2024/07/04\n",
        "\n",
        "  2. Transfer to digital ocean\n",
        "    cd /tmp\n",
        "    sftp weidlich@157.245.212.244\n",
        "    mput cn_data_2024-07-02--2024-07-04.tar\n",
        "\n",
        "  \"\"\"\n",
        "pass"
      ],
      "metadata": {
        "id": "IljNV7RHmn77"
      },
      "execution_count": 2,
      "outputs": []
    },
    {
      "cell_type": "code",
      "source": [
        "\"\"\"\n",
        "Start colab notebook\n",
        "  click on https://github.com/RobertBWeidlich/Colab_Notebooks\n",
        "  click on Cn_Spacy_2024_07_05.ipynb\n",
        "  click on \"Open in Colab\"\n",
        "\"\"\"\n",
        "pass"
      ],
      "metadata": {
        "id": "_6cjn1MlFasP"
      },
      "execution_count": 3,
      "outputs": []
    },
    {
      "cell_type": "code",
      "source": [
        "\"\"\"\n",
        "Download data\n",
        "  open colab terminal window, and run:\n",
        "    mkdir /content/cn_data\n",
        "    cd /content/cn_data\n",
        "    sftp weidlich@157.245.212.244\n",
        "      mget cn_data_2024-07-02--2024-07-04.tar\n",
        "      exit\n",
        "    tar xvf ./cn_data_2024-07-02--2024-07-04.tar\n",
        "\"\"\"\n",
        "pass"
      ],
      "metadata": {
        "id": "DsO2gEJzLBap"
      },
      "execution_count": 4,
      "outputs": []
    },
    {
      "cell_type": "code",
      "source": [
        "#"
      ],
      "metadata": {
        "id": "LmzpA2oSLbI7"
      },
      "execution_count": null,
      "outputs": []
    },
    {
      "source": [
        "import os\n",
        "\n",
        "file_count = 0\n",
        "for root, dirs, files in os.walk('/content/cn_data'):\n",
        "    # Sort directories and files alphabetically\n",
        "    dirs.sort()\n",
        "    files.sort()\n",
        "\n",
        "    loop_count = 0\n",
        "\n",
        "    for file in files:\n",
        "        print(f\"  {root} {file}\")\n",
        "        filepath = os.path.join(root, file)\n",
        "        #print(filepath)  # Do something with the file\n",
        "        print(f\"{loop_count} {file_count} {filepath}\")  # Do something with the file\n",
        "        print()\n",
        "        file_count += 1\n",
        "        loop_count += 1\n",
        "    print(file_count)\n"
      ],
      "cell_type": "code",
      "metadata": {
        "id": "L-4ucZksPh02"
      },
      "execution_count": null,
      "outputs": []
    },
    {
      "cell_type": "code",
      "source": [],
      "metadata": {
        "id": "4uzLnC61Pjbc"
      },
      "execution_count": null,
      "outputs": []
    }
  ]
}