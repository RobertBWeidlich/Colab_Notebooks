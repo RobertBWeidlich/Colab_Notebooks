{
  "nbformat": 4,
  "nbformat_minor": 0,
  "metadata": {
    "colab": {
      "provenance": [],
      "authorship_tag": "ABX9TyPlEnAtZ3oX2Vijb8EtrSMv",
      "include_colab_link": true
    },
    "kernelspec": {
      "name": "python3",
      "display_name": "Python 3"
    },
    "language_info": {
      "name": "python"
    }
  },
  "cells": [
    {
      "cell_type": "markdown",
      "metadata": {
        "id": "view-in-github",
        "colab_type": "text"
      },
      "source": [
        "<a href=\"https://colab.research.google.com/github/RobertBWeidlich/Colab_Notebooks/blob/main/CnNB_002_Numpy.ipynb\" target=\"_parent\"><img src=\"https://colab.research.google.com/assets/colab-badge.svg\" alt=\"Open In Colab\"/></a>"
      ]
    },
    {
      "cell_type": "code",
      "execution_count": null,
      "metadata": {
        "id": "CIfg4Q9CmF4K"
      },
      "outputs": [],
      "source": [
        "# CnNB 002 Numpy\n",
        "# Python Machine Learning, Wei-Meng Lee, chapter 2                                                                                          "
      ]
    },
    {
      "cell_type": "code",
      "source": [
        "import numpy as np"
      ],
      "metadata": {
        "id": "CtjWNE9FmOFy"
      },
      "execution_count": 1,
      "outputs": []
    },
    {
      "cell_type": "code",
      "source": [
        "a1 = np.arange(10)\n",
        "print(type(a1))\n",
        "a1"
      ],
      "metadata": {
        "id": "-FNa6Ydx-ZA6",
        "outputId": "97f0591f-cb48-48be-c906-37373da784ee",
        "colab": {
          "base_uri": "https://localhost:8080/"
        }
      },
      "execution_count": 8,
      "outputs": [
        {
          "output_type": "stream",
          "name": "stdout",
          "text": [
            "<class 'numpy.ndarray'>\n"
          ]
        },
        {
          "output_type": "execute_result",
          "data": {
            "text/plain": [
              "array([0, 1, 2, 3, 4, 5, 6, 7, 8, 9])"
            ]
          },
          "metadata": {},
          "execution_count": 8
        }
      ]
    },
    {
      "cell_type": "code",
      "source": [
        "a7 = np.random.random((3,5))\n",
        "a7"
      ],
      "metadata": {
        "id": "xLQBai3o-pJG",
        "outputId": "53f5068d-490a-43e0-cb20-2a338a76aee9",
        "colab": {
          "base_uri": "https://localhost:8080/"
        }
      },
      "execution_count": 10,
      "outputs": [
        {
          "output_type": "execute_result",
          "data": {
            "text/plain": [
              "array([[0.33781288, 0.17855011, 0.90447531, 0.3753278 , 0.23801423],\n",
              "       [0.66176425, 0.19794324, 0.12141677, 0.86459436, 0.23585159],\n",
              "       [0.9277143 , 0.79359259, 0.63438004, 0.40061401, 0.34739964]])"
            ]
          },
          "metadata": {},
          "execution_count": 10
        }
      ]
    },
    {
      "cell_type": "code",
      "source": [],
      "metadata": {
        "id": "F0oHmXYkAgW2"
      },
      "execution_count": null,
      "outputs": []
    }
  ]
}