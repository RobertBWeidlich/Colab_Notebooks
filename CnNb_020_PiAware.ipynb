{
  "nbformat": 4,
  "nbformat_minor": 0,
  "metadata": {
    "colab": {
      "provenance": [],
      "authorship_tag": "ABX9TyO4RZwq4NagJz2lBunrmIai",
      "include_colab_link": true
    },
    "kernelspec": {
      "name": "python3",
      "display_name": "Python 3"
    },
    "language_info": {
      "name": "python"
    }
  },
  "cells": [
    {
      "cell_type": "markdown",
      "metadata": {
        "id": "view-in-github",
        "colab_type": "text"
      },
      "source": [
        "<a href=\"https://colab.research.google.com/github/RobertBWeidlich/Colab_Notebooks/blob/main/CnNb_020_PiAware.ipynb\" target=\"_parent\"><img src=\"https://colab.research.google.com/assets/colab-badge.svg\" alt=\"Open In Colab\"/></a>"
      ]
    },
    {
      "cell_type": "markdown",
      "source": [],
      "metadata": {
        "id": "_s0V4Ibj--m0"
      }
    },
    {
      "cell_type": "code",
      "source": [
        "# Put comments here..."
      ],
      "metadata": {
        "id": "mFCUBiXc_COX"
      },
      "execution_count": 4,
      "outputs": []
    },
    {
      "cell_type": "code",
      "source": [
        "PIAWARE_DATA_DIR=\"/content/data/2024/\"\n",
        "\n",
        "import os\n",
        "\n",
        "def list_files_recursively(directory):\n",
        "\n",
        "    # Walk through the directory\n",
        "    file_list = []\n",
        "    for dirpath, dirnames, filenames in os.walk(directory):\n",
        "      pass\n",
        "      \"\"\"\n",
        "        for filename in filenames:\n",
        "            # Join the directory path with the file name to get the full path\n",
        "            filepath = os.path.join(dirpath, filename)\n",
        "            #print(filepath)\n",
        "            file_list.append(filepath)\n",
        "      \"\"\"\n",
        "    return file_list\n",
        "\n",
        "list_files_recursively(PIAWARE_DATA_DIR)\n"
      ],
      "metadata": {
        "id": "gIjeinLh-5co",
        "outputId": "4070a12a-c675-4e2e-e205-be78f75097ff",
        "colab": {
          "base_uri": "https://localhost:8080/"
        }
      },
      "execution_count": 10,
      "outputs": [
        {
          "output_type": "execute_result",
          "data": {
            "text/plain": [
              "[]"
            ]
          },
          "metadata": {},
          "execution_count": 10
        }
      ]
    },
    {
      "cell_type": "code",
      "source": [],
      "metadata": {
        "id": "4sdmIS2L_VUg"
      },
      "execution_count": null,
      "outputs": []
    }
  ]
}