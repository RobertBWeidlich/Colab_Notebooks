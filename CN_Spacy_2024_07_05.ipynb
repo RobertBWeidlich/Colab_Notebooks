{
  "nbformat": 4,
  "nbformat_minor": 0,
  "metadata": {
    "colab": {
      "provenance": [],
      "authorship_tag": "ABX9TyPMcv0K5Ui4u7622+zTLKvq",
      "include_colab_link": true
    },
    "kernelspec": {
      "name": "python3",
      "display_name": "Python 3"
    },
    "language_info": {
      "name": "python"
    }
  },
  "cells": [
    {
      "cell_type": "markdown",
      "metadata": {
        "id": "view-in-github",
        "colab_type": "text"
      },
      "source": [
        "<a href=\"https://colab.research.google.com/github/RobertBWeidlich/Colab_Notebooks/blob/main/CN_Spacy_2024_07_05.ipynb\" target=\"_parent\"><img src=\"https://colab.research.google.com/assets/colab-badge.svg\" alt=\"Open In Colab\"/></a>"
      ]
    },
    {
      "cell_type": "code",
      "execution_count": 3,
      "metadata": {
        "id": "-n3MEqpLmemL"
      },
      "outputs": [],
      "source": [
        "\"\"\"\n",
        "CN_Spacy_2024_07_05.ipynb\n",
        "\n",
        "Purpose: Analyze CN data with Spacy and other NLP tools\n",
        "\n",
        "  Jupyter notebook:\n",
        "    -- stored in github\n",
        "    -- run in colab.research.google.com\n",
        "\n",
        "  Data:\n",
        "    -- created on weidlich@192.168.1.206\n",
        "    -- stored on digital ocean - weidlich@157.245.212.244\n",
        "\"\"\"\n",
        "pass"
      ]
    },
    {
      "cell_type": "code",
      "source": [
        "\"\"\"\n",
        "First time Initialization of CN data\n",
        "\n",
        "  1. Generate data\n",
        "    ssh weidlich@157.245.212.244\n",
        "    cd /data1/cn/\n",
        "    tar cvfz /tmp/cn_data_2024-07-02--2024-07-04.tar ./rss_raw/2024/07/02 ./rss_raw/2024/07/03 ./rss_raw/2024/07/04\n",
        "\n",
        "  2. Transfer to digital ocean\n",
        "    cd /tmp\n",
        "    sftp weidlich@157.245.212.244\n",
        "    mput cn_data_2024-07-02--2024-07-04.tar\n",
        "\n",
        "  \"\"\"\n",
        "pass"
      ],
      "metadata": {
        "id": "IljNV7RHmn77"
      },
      "execution_count": 5,
      "outputs": []
    },
    {
      "cell_type": "code",
      "source": [
        "\"\"\"\n",
        "Start colab notebook\n",
        "  click on https://github.com/RobertBWeidlich/Colab_Notebooks\n",
        "  click on Cn_Spacy_2024_07_05.ipynb\n",
        "  click on \"Open in Colab\"\n",
        "\"\"\""
      ],
      "metadata": {
        "id": "_6cjn1MlFasP"
      },
      "execution_count": null,
      "outputs": []
    }
  ]
}