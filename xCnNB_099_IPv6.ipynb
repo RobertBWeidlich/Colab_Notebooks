{
  "nbformat": 4,
  "nbformat_minor": 0,
  "metadata": {
    "colab": {
      "provenance": [],
      "authorship_tag": "ABX9TyPQLLpUjOS132z//JWXwRBf",
      "include_colab_link": true
    },
    "kernelspec": {
      "name": "python3",
      "display_name": "Python 3"
    },
    "language_info": {
      "name": "python"
    }
  },
  "cells": [
    {
      "cell_type": "markdown",
      "metadata": {
        "id": "view-in-github",
        "colab_type": "text"
      },
      "source": [
        "<a href=\"https://colab.research.google.com/github/RobertBWeidlich/Colab_Notebooks/blob/main/CnNB_099_IPv6.ipynb\" target=\"_parent\"><img src=\"https://colab.research.google.com/assets/colab-badge.svg\" alt=\"Open In Colab\"/></a>"
      ]
    },
    {
      "cell_type": "code",
      "execution_count": null,
      "metadata": {
        "id": "31XTO3GXVSMV"
      },
      "outputs": [],
      "source": [
        "# Explore how to manage IPv6 addresses stored as 2 64-bit signed integers"
      ]
    },
    {
      "cell_type": "code",
      "source": [
        "import ipaddress\n",
        "import os\n",
        "import sys"
      ],
      "metadata": {
        "id": "f62nSbfDW5mn"
      },
      "execution_count": 28,
      "outputs": []
    },
    {
      "cell_type": "code",
      "source": [
        "ipv6_1_str = \"1111:2222:3333:4444:5555:6666:7777:8888\"\n",
        "ipv6_2_str = \"8888:9999:aaaa:bbbb:cccc:dddd:eeee:ffff\""
      ],
      "metadata": {
        "id": "zByWH6glW8sX"
      },
      "execution_count": 32,
      "outputs": []
    },
    {
      "cell_type": "code",
      "source": [
        "# ipaddress object\n",
        "ipv6_1_ipa = ipaddress.IPv6Address(ipv6_1_str)\n",
        "ipv6_2_ipa = ipaddress.IPv6Address(ipv6_2_str)\n",
        "print(ipv6_1_ipa)\n",
        "print(ipv6_2_ipa)\n",
        "\n",
        "# integer\n",
        "ipv6_1_int = int(ipv6_1_ipa)\n",
        "ipv6_2_int = int(ipv6_2_ipa)\n",
        "print(ipv6_1_int)\n",
        "print(ipv6_2_int)\n",
        "print(hex(ipv6_1_int))\n",
        "print(hex(ipv6_2_int))"
      ],
      "metadata": {
        "id": "5eKioocxXMCA",
        "outputId": "79fd29d1-525b-459d-d8bd-05ba53b9ee50",
        "colab": {
          "base_uri": "https://localhost:8080/"
        }
      },
      "execution_count": 39,
      "outputs": [
        {
          "output_type": "stream",
          "name": "stdout",
          "text": [
            "1111:2222:3333:4444:5555:6666:7777:8888\n",
            "8888:9999:aaaa:bbbb:cccc:dddd:eeee:ffff\n",
            "22685837286468424649968941046919825544\n",
            "181484275182906374266210424515078324223\n",
            "0x11112222333344445555666677778888\n",
            "0x88889999aaaabbbbccccddddeeeeffff\n"
          ]
        }
      ]
    },
    {
      "cell_type": "code",
      "source": [
        "# break into two 64-bit integers"
      ],
      "metadata": {
        "id": "06ifc-Y_qU-4"
      },
      "execution_count": null,
      "outputs": []
    },
    {
      "cell_type": "code",
      "source": [
        "# lower\n",
        "#hex((ipv6_2_int& 0xff) << 8)\n",
        "hex(ipv6_2_int & 0xffffffffffffffff)"
      ],
      "metadata": {
        "colab": {
          "base_uri": "https://localhost:8080/",
          "height": 35
        },
        "id": "6YAdGfohqVZN",
        "outputId": "36ec0006-ebe6-4815-8893-725ec0158974"
      },
      "execution_count": 45,
      "outputs": [
        {
          "output_type": "execute_result",
          "data": {
            "text/plain": [
              "'0xccccddddeeeeffff'"
            ],
            "application/vnd.google.colaboratory.intrinsic+json": {
              "type": "string"
            }
          },
          "metadata": {},
          "execution_count": 45
        }
      ]
    },
    {
      "cell_type": "code",
      "source": [],
      "metadata": {
        "id": "wxsSCNWlqVhc"
      },
      "execution_count": null,
      "outputs": []
    },
    {
      "cell_type": "code",
      "source": [
        "a=\"11011111101100110110011001011101000\"\n",
        "b=\"11001011101100111000011100001100001\"\n",
        "y=int(a,2) ^ int(b,2)\n",
        "print('{0:b}'.format(y))"
      ],
      "metadata": {
        "id": "JdxUywQ7Y7V_",
        "colab": {
          "base_uri": "https://localhost:8080/"
        },
        "outputId": "0714b92d-b7dc-4c1b-adc8-4df12eea22db"
      },
      "execution_count": 1,
      "outputs": [
        {
          "output_type": "stream",
          "name": "stdout",
          "text": [
            "10100000000001110000101010001001\n"
          ]
        }
      ]
    },
    {
      "cell_type": "code",
      "source": [
        "z = int(a) ^ int(b,'11111111111111111111111111111111111')\n",
        "print('{0:b}'.format(z))"
      ],
      "metadata": {
        "colab": {
          "base_uri": "https://localhost:8080/",
          "height": 180
        },
        "id": "eOh0g4b7mSqW",
        "outputId": "67410f5c-1c85-4f05-f992-065d711401da"
      },
      "execution_count": 5,
      "outputs": [
        {
          "output_type": "error",
          "ename": "TypeError",
          "evalue": "ignored",
          "traceback": [
            "\u001b[0;31m---------------------------------------------------------------------------\u001b[0m",
            "\u001b[0;31mTypeError\u001b[0m                                 Traceback (most recent call last)",
            "\u001b[0;32m<ipython-input-5-38e3809a12a7>\u001b[0m in \u001b[0;36m<cell line: 1>\u001b[0;34m()\u001b[0m\n\u001b[0;32m----> 1\u001b[0;31m \u001b[0mz\u001b[0m \u001b[0;34m=\u001b[0m \u001b[0mint\u001b[0m\u001b[0;34m(\u001b[0m\u001b[0ma\u001b[0m\u001b[0;34m)\u001b[0m \u001b[0;34m^\u001b[0m \u001b[0mint\u001b[0m\u001b[0;34m(\u001b[0m\u001b[0mb\u001b[0m\u001b[0;34m,\u001b[0m\u001b[0;34m'11111111111111111111111111111111111'\u001b[0m\u001b[0;34m)\u001b[0m\u001b[0;34m\u001b[0m\u001b[0;34m\u001b[0m\u001b[0m\n\u001b[0m\u001b[1;32m      2\u001b[0m \u001b[0mprint\u001b[0m\u001b[0;34m(\u001b[0m\u001b[0;34m'{0:b}'\u001b[0m\u001b[0;34m.\u001b[0m\u001b[0mformat\u001b[0m\u001b[0;34m(\u001b[0m\u001b[0mz\u001b[0m\u001b[0;34m)\u001b[0m\u001b[0;34m)\u001b[0m\u001b[0;34m\u001b[0m\u001b[0;34m\u001b[0m\u001b[0m\n",
            "\u001b[0;31mTypeError\u001b[0m: 'str' object cannot be interpreted as an integer"
          ]
        }
      ]
    },
    {
      "cell_type": "code",
      "source": [
        "a=\"11011111101100110110011001011101000\"\n",
        "b=\"11111111111111111111111111111111111\"\n",
        "y=int(a,2) ^ int(b,2)\n",
        "print(a)\n",
        "print(b)\n",
        "print('{0:b}'.format(y))"
      ],
      "metadata": {
        "colab": {
          "base_uri": "https://localhost:8080/"
        },
        "outputId": "99089c46-23ae-40c4-8702-2f43302daf79",
        "id": "BMo4RNj-nabx"
      },
      "execution_count": 10,
      "outputs": [
        {
          "output_type": "stream",
          "name": "stdout",
          "text": [
            "11011111101100110110011001011101000\n",
            "11111111111111111111111111111111111\n",
            "100000010011001001100110100010111\n"
          ]
        }
      ]
    },
    {
      "cell_type": "code",
      "source": [
        "def doit(istr: str):\n",
        "  return('0011') "
      ],
      "metadata": {
        "id": "R0cq-19YncoT"
      },
      "execution_count": 11,
      "outputs": []
    },
    {
      "cell_type": "code",
      "source": [
        "# convert IPv6 in the form\n",
        "# \"8888:9999:aaaa:bbbb:cccc:dddd:eeee:ffff\"\n",
        "# two signed 64 bit integers\n",
        "def convert_ipv6_to_two_64bit_ints(ipv6_str):\n",
        "  return (15, -7)"
      ],
      "metadata": {
        "id": "4Hs3GYYVnouA"
      },
      "execution_count": 13,
      "outputs": []
    },
    {
      "cell_type": "code",
      "source": [
        "ipv6_str = \"8888:9999:aaaa:bbbb:cccc:dddd:eeee:ffff\" \n",
        "a, b = convert_ipv6_to_two_64bit_ints(ipv6_str)\n",
        "print(a)\n",
        "print(b)"
      ],
      "metadata": {
        "colab": {
          "base_uri": "https://localhost:8080/"
        },
        "id": "nYALQB_ZwEre",
        "outputId": "66528236-da33-4579-e436-00c826607c22"
      },
      "execution_count": 15,
      "outputs": [
        {
          "output_type": "stream",
          "name": "stdout",
          "text": [
            "15\n",
            "-7\n"
          ]
        }
      ]
    },
    {
      "cell_type": "code",
      "source": [
        "# bitarray\n",
        "from bitarray import bitarray"
      ],
      "metadata": {
        "colab": {
          "base_uri": "https://localhost:8080/",
          "height": 316
        },
        "id": "fJP7W1vNww3i",
        "outputId": "2521a1b2-da01-49a1-a600-c03f6238e9d6"
      },
      "execution_count": 3,
      "outputs": [
        {
          "output_type": "error",
          "ename": "ModuleNotFoundError",
          "evalue": "ignored",
          "traceback": [
            "\u001b[0;31m---------------------------------------------------------------------------\u001b[0m",
            "\u001b[0;31mModuleNotFoundError\u001b[0m                       Traceback (most recent call last)",
            "\u001b[0;32m<ipython-input-3-cf0dd9a2483b>\u001b[0m in \u001b[0;36m<cell line: 2>\u001b[0;34m()\u001b[0m\n\u001b[1;32m      1\u001b[0m \u001b[0;31m# bitarray\u001b[0m\u001b[0;34m\u001b[0m\u001b[0;34m\u001b[0m\u001b[0m\n\u001b[0;32m----> 2\u001b[0;31m \u001b[0;32mfrom\u001b[0m \u001b[0mbitarray\u001b[0m \u001b[0;32mimport\u001b[0m \u001b[0mbitarray\u001b[0m\u001b[0;34m\u001b[0m\u001b[0;34m\u001b[0m\u001b[0m\n\u001b[0m",
            "\u001b[0;31mModuleNotFoundError\u001b[0m: No module named 'bitarray'",
            "",
            "\u001b[0;31m---------------------------------------------------------------------------\u001b[0;32m\nNOTE: If your import is failing due to a missing package, you can\nmanually install dependencies using either !pip or !apt.\n\nTo view examples of installing some common dependencies, click the\n\"Open Examples\" button below.\n\u001b[0;31m---------------------------------------------------------------------------\u001b[0m\n"
          ],
          "errorDetails": {
            "actions": [
              {
                "action": "open_url",
                "actionText": "Open Examples",
                "url": "/notebooks/snippets/importing_libraries.ipynb"
              }
            ]
          }
        }
      ]
    },
    {
      "cell_type": "code",
      "source": [
        "prime_numbers = [2, 3, 5, 7]\n",
        "\n"
      ],
      "metadata": {
        "id": "dUcrDuWUgr01"
      },
      "execution_count": 4,
      "outputs": []
    },
    {
      "cell_type": "code",
      "source": [
        "# int.to_bytes(0xfffe, 16)\n",
        "(-0xffff).bit_length()\n",
        "num = -254\n",
        "num_bytes = num.to_bytes(2, byteorder='big')\n",
        "num_bytes"
      ],
      "metadata": {
        "colab": {
          "base_uri": "https://localhost:8080/",
          "height": 214
        },
        "id": "6W7EKGmyh-CM",
        "outputId": "8c92140a-5369-4641-cd27-7530f0101815"
      },
      "execution_count": 22,
      "outputs": [
        {
          "output_type": "error",
          "ename": "OverflowError",
          "evalue": "ignored",
          "traceback": [
            "\u001b[0;31m---------------------------------------------------------------------------\u001b[0m",
            "\u001b[0;31mOverflowError\u001b[0m                             Traceback (most recent call last)",
            "\u001b[0;32m<ipython-input-22-6af7a59cca13>\u001b[0m in \u001b[0;36m<cell line: 4>\u001b[0;34m()\u001b[0m\n\u001b[1;32m      2\u001b[0m \u001b[0;34m(\u001b[0m\u001b[0;34m-\u001b[0m\u001b[0;36m0xffff\u001b[0m\u001b[0;34m)\u001b[0m\u001b[0;34m.\u001b[0m\u001b[0mbit_length\u001b[0m\u001b[0;34m(\u001b[0m\u001b[0;34m)\u001b[0m\u001b[0;34m\u001b[0m\u001b[0;34m\u001b[0m\u001b[0m\n\u001b[1;32m      3\u001b[0m \u001b[0mnum\u001b[0m \u001b[0;34m=\u001b[0m \u001b[0;34m-\u001b[0m\u001b[0;36m254\u001b[0m\u001b[0;34m\u001b[0m\u001b[0;34m\u001b[0m\u001b[0m\n\u001b[0;32m----> 4\u001b[0;31m \u001b[0mnum_bytes\u001b[0m \u001b[0;34m=\u001b[0m \u001b[0mnum\u001b[0m\u001b[0;34m.\u001b[0m\u001b[0mto_bytes\u001b[0m\u001b[0;34m(\u001b[0m\u001b[0;36m2\u001b[0m\u001b[0;34m,\u001b[0m \u001b[0mbyteorder\u001b[0m\u001b[0;34m=\u001b[0m\u001b[0;34m'big'\u001b[0m\u001b[0;34m)\u001b[0m\u001b[0;34m\u001b[0m\u001b[0;34m\u001b[0m\u001b[0m\n\u001b[0m\u001b[1;32m      5\u001b[0m \u001b[0mnum_bytes\u001b[0m\u001b[0;34m\u001b[0m\u001b[0;34m\u001b[0m\u001b[0m\n",
            "\u001b[0;31mOverflowError\u001b[0m: can't convert negative int to unsigned"
          ]
        }
      ]
    },
    {
      "cell_type": "code",
      "source": [
        "hex(num ^ 0x7fff)"
      ],
      "metadata": {
        "colab": {
          "base_uri": "https://localhost:8080/",
          "height": 35
        },
        "id": "fSND_NN1iAmY",
        "outputId": "bd301205-fb77-40f1-813c-af692975adbd"
      },
      "execution_count": 27,
      "outputs": [
        {
          "output_type": "execute_result",
          "data": {
            "text/plain": [
              "'-0x7f03'"
            ],
            "application/vnd.google.colaboratory.intrinsic+json": {
              "type": "string"
            }
          },
          "metadata": {},
          "execution_count": 27
        }
      ]
    },
    {
      "cell_type": "code",
      "source": [],
      "metadata": {
        "id": "sOI1Q_1wkZV5"
      },
      "execution_count": null,
      "outputs": []
    }
  ]
}
