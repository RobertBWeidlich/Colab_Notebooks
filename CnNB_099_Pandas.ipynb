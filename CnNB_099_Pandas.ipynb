{
  "nbformat": 4,
  "nbformat_minor": 0,
  "metadata": {
    "colab": {
      "provenance": [],
      "authorship_tag": "ABX9TyMyVcHCTk86Q0zrxJhP/CtB",
      "include_colab_link": true
    },
    "kernelspec": {
      "name": "python3",
      "display_name": "Python 3"
    },
    "language_info": {
      "name": "python"
    }
  },
  "cells": [
    {
      "cell_type": "markdown",
      "metadata": {
        "id": "view-in-github",
        "colab_type": "text"
      },
      "source": [
        "<a href=\"https://colab.research.google.com/github/RobertBWeidlich/Colab_Notebooks/blob/main/CnNB_099_Pandas.ipynb\" target=\"_parent\"><img src=\"https://colab.research.google.com/assets/colab-badge.svg\" alt=\"Open In Colab\"/></a>"
      ]
    },
    {
      "cell_type": "code",
      "execution_count": 3,
      "metadata": {
        "id": "31XTO3GXVSMV"
      },
      "outputs": [],
      "source": [
        "# Explore how to manage IPv6 addresses stored as 2 64-bit signed integers"
      ]
    },
    {
      "cell_type": "code",
      "source": [
        "import ipaddress\n",
        "import os\n",
        "import sys"
      ],
      "metadata": {
        "id": "f62nSbfDW5mn"
      },
      "execution_count": 5,
      "outputs": []
    },
    {
      "cell_type": "code",
      "source": [
        "ipv6_1_str = \"1111:2222:3333:4444:5555:6666:7777:8888\""
      ],
      "metadata": {
        "id": "zByWH6glW8sX"
      },
      "execution_count": 7,
      "outputs": []
    },
    {
      "cell_type": "code",
      "source": [
        "ipv6_1 = ipaddress.IPv6Address(ipv6_1_str)\n",
        "ipv6_1_int = int(ipv6_1)"
      ],
      "metadata": {
        "colab": {
          "base_uri": "https://localhost:8080/"
        },
        "id": "5eKioocxXMCA",
        "outputId": "c4585b85-9bc8-4649-d297-6e2d1e91c590"
      },
      "execution_count": 9,
      "outputs": [
        {
          "output_type": "execute_result",
          "data": {
            "text/plain": [
              "22685837286468424649968941046919825544"
            ]
          },
          "metadata": {},
          "execution_count": 9
        }
      ]
    },
    {
      "cell_type": "code",
      "source": [
        "\n"
      ],
      "metadata": {
        "id": "JdxUywQ7Y7V_"
      },
      "execution_count": null,
      "outputs": []
    }
  ]
}