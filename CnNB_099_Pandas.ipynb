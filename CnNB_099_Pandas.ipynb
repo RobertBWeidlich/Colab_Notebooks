{
  "nbformat": 4,
  "nbformat_minor": 0,
  "metadata": {
    "colab": {
      "provenance": [],
      "authorship_tag": "ABX9TyPo4o2jEXwF6uNtO/rxxsvc",
      "include_colab_link": true
    },
    "kernelspec": {
      "name": "python3",
      "display_name": "Python 3"
    },
    "language_info": {
      "name": "python"
    }
  },
  "cells": [
    {
      "cell_type": "markdown",
      "metadata": {
        "id": "view-in-github",
        "colab_type": "text"
      },
      "source": [
        "<a href=\"https://colab.research.google.com/github/RobertBWeidlich/Colab_Notebooks/blob/main/CnNB_099_Pandas.ipynb\" target=\"_parent\"><img src=\"https://colab.research.google.com/assets/colab-badge.svg\" alt=\"Open In Colab\"/></a>"
      ]
    },
    {
      "cell_type": "code",
      "execution_count": 3,
      "metadata": {
        "id": "31XTO3GXVSMV"
      },
      "outputs": [],
      "source": [
        "# Explore how to manage IPv6 addresses stored as 2 64-bit signed integers"
      ]
    },
    {
      "cell_type": "code",
      "source": [
        "import ipaddress\n",
        "import os\n",
        "import sys"
      ],
      "metadata": {
        "id": "f62nSbfDW5mn"
      },
      "execution_count": 5,
      "outputs": []
    },
    {
      "cell_type": "code",
      "source": [
        "ipv6_1_str = \"1111:2222:3333:4444:5555:6666:7777:8888\"\n",
        "ipv6_2_str = \"8888:9999:aaaa:bbbb:cccc:dddd:eeee:ffff\""
      ],
      "metadata": {
        "id": "zByWH6glW8sX"
      },
      "execution_count": 7,
      "outputs": []
    },
    {
      "cell_type": "code",
      "source": [
        "ipv6_1 = ipaddress.IPv6Address(ipv6_1_str)\n",
        "ipv6_1_int = int(ipv6_1)\n",
        "ipv6_2 = ipaddress.IPv6Address(ipv6_1_str)\n",
        "ipv6_2_int = int(ipv6_1)"
      ],
      "metadata": {
        "id": "5eKioocxXMCA"
      },
      "execution_count": 11,
      "outputs": []
    },
    {
      "cell_type": "code",
      "source": [
        "hex(ipv6_1_int)"
      ],
      "metadata": {
        "colab": {
          "base_uri": "https://localhost:8080/",
          "height": 35
        },
        "id": "JdxUywQ7Y7V_",
        "outputId": "bc059812-e98c-4530-d638-c615dba54487"
      },
      "execution_count": 12,
      "outputs": [
        {
          "output_type": "execute_result",
          "data": {
            "text/plain": [
              "'0x11112222333344445555666677778888'"
            ],
            "application/vnd.google.colaboratory.intrinsic+json": {
              "type": "string"
            }
          },
          "metadata": {},
          "execution_count": 12
        }
      ]
    },
    {
      "cell_type": "code",
      "source": [
        "hex(ipv6_1_int&0xffffffffffffffff)"
      ],
      "metadata": {
        "id": "RVJjQKGEZxVL",
        "outputId": "d27d829d-d20e-4667-f6b4-86d3f7e27078",
        "colab": {
          "base_uri": "https://localhost:8080/",
          "height": 35
        }
      },
      "execution_count": 15,
      "outputs": [
        {
          "output_type": "execute_result",
          "data": {
            "text/plain": [
              "'0x5555666677778888'"
            ],
            "application/vnd.google.colaboratory.intrinsic+json": {
              "type": "string"
            }
          },
          "metadata": {},
          "execution_count": 15
        }
      ]
    },
    {
      "cell_type": "code",
      "source": [
        "str(int('0xffffffffffffffff', 16))"
      ],
      "metadata": {
        "id": "7xGeo6dmaGA6",
        "outputId": "2450f8e2-0707-41c2-c01a-365dd06c7a4e",
        "colab": {
          "base_uri": "https://localhost:8080/",
          "height": 35
        }
      },
      "execution_count": 16,
      "outputs": [
        {
          "output_type": "execute_result",
          "data": {
            "text/plain": [
              "'18446744073709551615'"
            ],
            "application/vnd.google.colaboratory.intrinsic+json": {
              "type": "string"
            }
          },
          "metadata": {},
          "execution_count": 16
        }
      ]
    },
    {
      "cell_type": "code",
      "source": [],
      "metadata": {
        "id": "SqkteylxitVx"
      },
      "execution_count": null,
      "outputs": []
    },
    {
      "cell_type": "code",
      "source": [
        "# from chatgpt:\n",
        "num = 0xfffffffffffffcde\n",
        "\n",
        "# Convert to bit array\n",
        "bit_array = bin(num & (2**64-1))[2:].zfill(64)\n",
        "print(\"Bit array:\", bit_array)\n",
        "\n",
        "# Check if MSB is 1\n",
        "if bit_array[0] == '1':\n",
        "    # Perform two's complement\n",
        "    bit_array = bin((int('1' * 64, 2) + int(bit_array, 2)) & (2**64-1))[2:].zfill(64)\n",
        "    print(\"Two's complement:\", bit_array)\n",
        "\n",
        "# Convert back to integer\n",
        "result = int(bit_array, 2)\n",
        "print(\"Result:\", hex(result))\n"
      ],
      "metadata": {
        "id": "PMZk6yKdk9Mc",
        "outputId": "81a093d3-f224-4fe4-ba61-9e1028659335",
        "colab": {
          "base_uri": "https://localhost:8080/"
        }
      },
      "execution_count": 19,
      "outputs": [
        {
          "output_type": "stream",
          "name": "stdout",
          "text": [
            "Bit array: 1111111111111111111111111111111111111111111111111111110011011110\n",
            "Two's complement: 1111111111111111111111111111111111111111111111111111110011011101\n",
            "Result: 0xfffffffffffffcdd\n"
          ]
        }
      ]
    },
    {
      "cell_type": "code",
      "source": [
        "num = 0xfffffffffffffcde\n",
        "\n",
        "# Convert to bit array\n",
        "bit_array = bin(num & (2**64-1))[2:].zfill(64)\n",
        "print(\"Bit array:\", bit_array)"
      ],
      "metadata": {
        "id": "jcsOJAm0k75P",
        "outputId": "5f8c8f1b-5cf5-47ec-c330-76533660a360",
        "colab": {
          "base_uri": "https://localhost:8080/"
        }
      },
      "execution_count": 20,
      "outputs": [
        {
          "output_type": "stream",
          "name": "stdout",
          "text": [
            "Bit array: 1111111111111111111111111111111111111111111111111111110011011110\n"
          ]
        }
      ]
    },
    {
      "cell_type": "code",
      "source": [
        "bit_array[1]"
      ],
      "metadata": {
        "id": "xaX2CUMflu4S",
        "outputId": "c6a94ef2-19f3-46ab-d864-301101212a1e",
        "colab": {
          "base_uri": "https://localhost:8080/",
          "height": 35
        }
      },
      "execution_count": 22,
      "outputs": [
        {
          "output_type": "execute_result",
          "data": {
            "text/plain": [
              "'1'"
            ],
            "application/vnd.google.colaboratory.intrinsic+json": {
              "type": "string"
            }
          },
          "metadata": {},
          "execution_count": 22
        }
      ]
    },
    {
      "cell_type": "code",
      "source": [],
      "metadata": {
        "id": "XSOtMc8Zl3ea"
      },
      "execution_count": null,
      "outputs": []
    }
  ]
}