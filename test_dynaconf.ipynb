{
  "nbformat": 4,
  "nbformat_minor": 0,
  "metadata": {
    "colab": {
      "provenance": [],
      "authorship_tag": "ABX9TyPtLVF2V7LRUwQegLsaShz1",
      "include_colab_link": true
    },
    "kernelspec": {
      "name": "python3",
      "display_name": "Python 3"
    },
    "language_info": {
      "name": "python"
    }
  },
  "cells": [
    {
      "cell_type": "markdown",
      "metadata": {
        "id": "view-in-github",
        "colab_type": "text"
      },
      "source": [
        "<a href=\"https://colab.research.google.com/github/RobertBWeidlich/Colab_Notebooks/blob/main/test_dynaconf.ipynb\" target=\"_parent\"><img src=\"https://colab.research.google.com/assets/colab-badge.svg\" alt=\"Open In Colab\"/></a>"
      ]
    },
    {
      "cell_type": "markdown",
      "source": [
        "# Dynaconf Test Project\n",
        "### References:\n",
        "https://www.dynaconf.com/\n"
      ],
      "metadata": {
        "id": "fgSjMlAaiUKa"
      }
    },
    {
      "cell_type": "code",
      "execution_count": 1,
      "metadata": {
        "colab": {
          "base_uri": "https://localhost:8080/"
        },
        "id": "Lr2dXd3sN9rr",
        "outputId": "be732835-b05c-4138-a6f4-637d142ddd74"
      },
      "outputs": [
        {
          "output_type": "stream",
          "name": "stdout",
          "text": [
            "Looking in indexes: https://pypi.org/simple, https://us-python.pkg.dev/colab-wheels/public/simple/\n",
            "Collecting dynaconf\n",
            "  Downloading dynaconf-3.1.12-py2.py3-none-any.whl (211 kB)\n",
            "\u001b[2K     \u001b[90m━━━━━━━━━━━━━━━━━━━━━━━━━━━━━━━━━━━━━━\u001b[0m \u001b[32m211.8/211.8 kB\u001b[0m \u001b[31m10.7 MB/s\u001b[0m eta \u001b[36m0:00:00\u001b[0m\n",
            "\u001b[?25hInstalling collected packages: dynaconf\n",
            "Successfully installed dynaconf-3.1.12\n"
          ]
        }
      ],
      "source": [
        "# import dependencies for dynaconf\n",
        "!pip install dynaconf\n",
        "import dynaconf"
      ]
    },
    {
      "cell_type": "code",
      "source": [
        "!rm -rf /content/dc_project\n",
        "!mkdir -p /content/dc_project\n",
        "!cd /content/dc_project\n",
        "!dynaconf init"
      ],
      "metadata": {
        "id": "ksTfnfXfRF2R",
        "outputId": "9b357390-0a25-46e4-84b2-2fd69681590e",
        "colab": {
          "base_uri": "https://localhost:8080/"
        }
      },
      "execution_count": 2,
      "outputs": [
        {
          "output_type": "stream",
          "name": "stdout",
          "text": [
            "mkdir: invalid option -- 'r'\n",
            "Try 'mkdir --help' for more information.\n",
            "/bin/bash: line 0: cd: /content/dc_project: No such file or directory\n",
            "⚙️  Configuring your Dynaconf environment\n",
            "------------------------------------------\n",
            "🐍 The file `config.py` was generated.\n",
            "  on your code now use `from config import settings`.\n",
            "  (you must have `config` importable in your PYTHONPATH).\n",
            "\n",
            "🎛️  settings.toml created to hold your settings.\n",
            "\n",
            "🔑 .secrets.toml created to hold your secrets.\n",
            "\n",
            "🙈 the .secrets.toml is also included in `.gitignore` \n",
            "  beware to not push your secrets to a public repo \n",
            "  or use dynaconf builtin support for Vault Servers.\n",
            "\n",
            "🎉 Dynaconf is configured! read more on https://dynaconf.com\n",
            "   Use `dynaconf -i config.settings list` to see your settings\n",
            "\n"
          ]
        }
      ]
    },
    {
      "cell_type": "code",
      "source": [
        "!date"
      ],
      "metadata": {
        "id": "DOlx6VH56Sv-",
        "outputId": "7ca53891-8506-47d7-99c6-a0625f2fafb9",
        "colab": {
          "base_uri": "https://localhost:8080/"
        }
      },
      "execution_count": 3,
      "outputs": [
        {
          "output_type": "stream",
          "name": "stdout",
          "text": [
            "Sun 21 May 2023 08:17:18 PM UTC\n"
          ]
        }
      ]
    },
    {
      "cell_type": "code",
      "source": [],
      "metadata": {
        "id": "-KPkEO5o91XD"
      },
      "execution_count": null,
      "outputs": []
    }
  ]
}