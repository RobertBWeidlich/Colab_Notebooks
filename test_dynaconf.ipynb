{
  "nbformat": 4,
  "nbformat_minor": 0,
  "metadata": {
    "colab": {
      "provenance": [],
      "authorship_tag": "ABX9TyPFUJSRTaF9RDeReHdlJGjz",
      "include_colab_link": true
    },
    "kernelspec": {
      "name": "python3",
      "display_name": "Python 3"
    },
    "language_info": {
      "name": "python"
    }
  },
  "cells": [
    {
      "cell_type": "markdown",
      "metadata": {
        "id": "view-in-github",
        "colab_type": "text"
      },
      "source": [
        "<a href=\"https://colab.research.google.com/github/RobertBWeidlich/Colab_Notebooks/blob/main/test_dynaconf.ipynb\" target=\"_parent\"><img src=\"https://colab.research.google.com/assets/colab-badge.svg\" alt=\"Open In Colab\"/></a>"
      ]
    },
    {
      "cell_type": "markdown",
      "source": [
        "# Dynaconf Test Project\n",
        "### References:\n",
        "https://www.dynaconf.com/\n"
      ],
      "metadata": {
        "id": "fgSjMlAaiUKa"
      }
    },
    {
      "cell_type": "code",
      "execution_count": 1,
      "metadata": {
        "colab": {
          "base_uri": "https://localhost:8080/"
        },
        "id": "Lr2dXd3sN9rr",
        "outputId": "3b59d004-f666-49c0-fe0e-439a20fe8fdc"
      },
      "outputs": [
        {
          "output_type": "stream",
          "name": "stdout",
          "text": [
            "Looking in indexes: https://pypi.org/simple, https://us-python.pkg.dev/colab-wheels/public/simple/\n",
            "Collecting dynaconf\n",
            "  Downloading dynaconf-3.1.12-py2.py3-none-any.whl (211 kB)\n",
            "\u001b[2K     \u001b[90m━━━━━━━━━━━━━━━━━━━━━━━━━━━━━━━━━━━━━━━\u001b[0m \u001b[32m211.8/211.8 kB\u001b[0m \u001b[31m4.9 MB/s\u001b[0m eta \u001b[36m0:00:00\u001b[0m\n",
            "\u001b[?25hInstalling collected packages: dynaconf\n",
            "Successfully installed dynaconf-3.1.12\n"
          ]
        }
      ],
      "source": [
        "# import dependencies for dynaconf\n",
        "!pip install dynaconf\n",
        "import dynaconf"
      ]
    },
    {
      "cell_type": "code",
      "source": [
        "!mkdir dc_project\n",
        "!cd dc_project"
      ],
      "metadata": {
        "id": "ksTfnfXfRF2R"
      },
      "execution_count": null,
      "outputs": []
    }
  ]
}