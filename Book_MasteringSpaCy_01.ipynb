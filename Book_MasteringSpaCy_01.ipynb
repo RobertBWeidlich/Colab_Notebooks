{
  "nbformat": 4,
  "nbformat_minor": 0,
  "metadata": {
    "colab": {
      "provenance": [],
      "authorship_tag": "ABX9TyNl1E4pUUX+c56p9zY9iovH",
      "include_colab_link": true
    },
    "kernelspec": {
      "name": "python3",
      "display_name": "Python 3"
    },
    "language_info": {
      "name": "python"
    }
  },
  "cells": [
    {
      "cell_type": "markdown",
      "metadata": {
        "id": "view-in-github",
        "colab_type": "text"
      },
      "source": [
        "<a href=\"https://colab.research.google.com/github/RobertBWeidlich/Colab_Notebooks/blob/main/Book_MasteringSpaCy_01.ipynb\" target=\"_parent\"><img src=\"https://colab.research.google.com/assets/colab-badge.svg\" alt=\"Open In Colab\"/></a>"
      ]
    },
    {
      "cell_type": "code",
      "execution_count": 1,
      "metadata": {
        "id": "SFplrdbymyeq"
      },
      "outputs": [],
      "source": [
        "# Chapter 1 - Getting Started with spaCy"
      ]
    },
    {
      "cell_type": "code",
      "source": [
        "!python -m spacy download en_core_web_md"
      ],
      "metadata": {
        "id": "4KuO5qL1o5mV",
        "outputId": "50eed00e-0775-4b45-ad54-c878deb1ad32",
        "colab": {
          "base_uri": "https://localhost:8080/"
        }
      },
      "execution_count": 2,
      "outputs": [
        {
          "output_type": "stream",
          "name": "stdout",
          "text": [
            "2023-07-23 21:31:40.798814: I tensorflow/core/platform/cpu_feature_guard.cc:182] This TensorFlow binary is optimized to use available CPU instructions in performance-critical operations.\n",
            "To enable the following instructions: AVX2 FMA, in other operations, rebuild TensorFlow with the appropriate compiler flags.\n",
            "2023-07-23 21:31:41.917651: W tensorflow/compiler/tf2tensorrt/utils/py_utils.cc:38] TF-TRT Warning: Could not find TensorRT\n",
            "Collecting en-core-web-md==3.5.0\n",
            "  Downloading https://github.com/explosion/spacy-models/releases/download/en_core_web_md-3.5.0/en_core_web_md-3.5.0-py3-none-any.whl (42.8 MB)\n",
            "\u001b[2K     \u001b[90m━━━━━━━━━━━━━━━━━━━━━━━━━━━━━━━━━━━━━━━━\u001b[0m \u001b[32m42.8/42.8 MB\u001b[0m \u001b[31m17.9 MB/s\u001b[0m eta \u001b[36m0:00:00\u001b[0m\n",
            "\u001b[?25hRequirement already satisfied: spacy<3.6.0,>=3.5.0 in /usr/local/lib/python3.10/dist-packages (from en-core-web-md==3.5.0) (3.5.4)\n",
            "Requirement already satisfied: spacy-legacy<3.1.0,>=3.0.11 in /usr/local/lib/python3.10/dist-packages (from spacy<3.6.0,>=3.5.0->en-core-web-md==3.5.0) (3.0.12)\n",
            "Requirement already satisfied: spacy-loggers<2.0.0,>=1.0.0 in /usr/local/lib/python3.10/dist-packages (from spacy<3.6.0,>=3.5.0->en-core-web-md==3.5.0) (1.0.4)\n",
            "Requirement already satisfied: murmurhash<1.1.0,>=0.28.0 in /usr/local/lib/python3.10/dist-packages (from spacy<3.6.0,>=3.5.0->en-core-web-md==3.5.0) (1.0.9)\n",
            "Requirement already satisfied: cymem<2.1.0,>=2.0.2 in /usr/local/lib/python3.10/dist-packages (from spacy<3.6.0,>=3.5.0->en-core-web-md==3.5.0) (2.0.7)\n",
            "Requirement already satisfied: preshed<3.1.0,>=3.0.2 in /usr/local/lib/python3.10/dist-packages (from spacy<3.6.0,>=3.5.0->en-core-web-md==3.5.0) (3.0.8)\n",
            "Requirement already satisfied: thinc<8.2.0,>=8.1.8 in /usr/local/lib/python3.10/dist-packages (from spacy<3.6.0,>=3.5.0->en-core-web-md==3.5.0) (8.1.10)\n",
            "Requirement already satisfied: wasabi<1.2.0,>=0.9.1 in /usr/local/lib/python3.10/dist-packages (from spacy<3.6.0,>=3.5.0->en-core-web-md==3.5.0) (1.1.2)\n",
            "Requirement already satisfied: srsly<3.0.0,>=2.4.3 in /usr/local/lib/python3.10/dist-packages (from spacy<3.6.0,>=3.5.0->en-core-web-md==3.5.0) (2.4.7)\n",
            "Requirement already satisfied: catalogue<2.1.0,>=2.0.6 in /usr/local/lib/python3.10/dist-packages (from spacy<3.6.0,>=3.5.0->en-core-web-md==3.5.0) (2.0.8)\n",
            "Requirement already satisfied: typer<0.10.0,>=0.3.0 in /usr/local/lib/python3.10/dist-packages (from spacy<3.6.0,>=3.5.0->en-core-web-md==3.5.0) (0.9.0)\n",
            "Requirement already satisfied: pathy>=0.10.0 in /usr/local/lib/python3.10/dist-packages (from spacy<3.6.0,>=3.5.0->en-core-web-md==3.5.0) (0.10.2)\n",
            "Requirement already satisfied: smart-open<7.0.0,>=5.2.1 in /usr/local/lib/python3.10/dist-packages (from spacy<3.6.0,>=3.5.0->en-core-web-md==3.5.0) (6.3.0)\n",
            "Requirement already satisfied: tqdm<5.0.0,>=4.38.0 in /usr/local/lib/python3.10/dist-packages (from spacy<3.6.0,>=3.5.0->en-core-web-md==3.5.0) (4.65.0)\n",
            "Requirement already satisfied: numpy>=1.15.0 in /usr/local/lib/python3.10/dist-packages (from spacy<3.6.0,>=3.5.0->en-core-web-md==3.5.0) (1.22.4)\n",
            "Requirement already satisfied: requests<3.0.0,>=2.13.0 in /usr/local/lib/python3.10/dist-packages (from spacy<3.6.0,>=3.5.0->en-core-web-md==3.5.0) (2.27.1)\n",
            "Requirement already satisfied: pydantic!=1.8,!=1.8.1,<1.11.0,>=1.7.4 in /usr/local/lib/python3.10/dist-packages (from spacy<3.6.0,>=3.5.0->en-core-web-md==3.5.0) (1.10.11)\n",
            "Requirement already satisfied: jinja2 in /usr/local/lib/python3.10/dist-packages (from spacy<3.6.0,>=3.5.0->en-core-web-md==3.5.0) (3.1.2)\n",
            "Requirement already satisfied: setuptools in /usr/local/lib/python3.10/dist-packages (from spacy<3.6.0,>=3.5.0->en-core-web-md==3.5.0) (67.7.2)\n",
            "Requirement already satisfied: packaging>=20.0 in /usr/local/lib/python3.10/dist-packages (from spacy<3.6.0,>=3.5.0->en-core-web-md==3.5.0) (23.1)\n",
            "Requirement already satisfied: langcodes<4.0.0,>=3.2.0 in /usr/local/lib/python3.10/dist-packages (from spacy<3.6.0,>=3.5.0->en-core-web-md==3.5.0) (3.3.0)\n",
            "Requirement already satisfied: typing-extensions>=4.2.0 in /usr/local/lib/python3.10/dist-packages (from pydantic!=1.8,!=1.8.1,<1.11.0,>=1.7.4->spacy<3.6.0,>=3.5.0->en-core-web-md==3.5.0) (4.7.1)\n",
            "Requirement already satisfied: urllib3<1.27,>=1.21.1 in /usr/local/lib/python3.10/dist-packages (from requests<3.0.0,>=2.13.0->spacy<3.6.0,>=3.5.0->en-core-web-md==3.5.0) (1.26.16)\n",
            "Requirement already satisfied: certifi>=2017.4.17 in /usr/local/lib/python3.10/dist-packages (from requests<3.0.0,>=2.13.0->spacy<3.6.0,>=3.5.0->en-core-web-md==3.5.0) (2023.5.7)\n",
            "Requirement already satisfied: charset-normalizer~=2.0.0 in /usr/local/lib/python3.10/dist-packages (from requests<3.0.0,>=2.13.0->spacy<3.6.0,>=3.5.0->en-core-web-md==3.5.0) (2.0.12)\n",
            "Requirement already satisfied: idna<4,>=2.5 in /usr/local/lib/python3.10/dist-packages (from requests<3.0.0,>=2.13.0->spacy<3.6.0,>=3.5.0->en-core-web-md==3.5.0) (3.4)\n",
            "Requirement already satisfied: blis<0.8.0,>=0.7.8 in /usr/local/lib/python3.10/dist-packages (from thinc<8.2.0,>=8.1.8->spacy<3.6.0,>=3.5.0->en-core-web-md==3.5.0) (0.7.9)\n",
            "Requirement already satisfied: confection<1.0.0,>=0.0.1 in /usr/local/lib/python3.10/dist-packages (from thinc<8.2.0,>=8.1.8->spacy<3.6.0,>=3.5.0->en-core-web-md==3.5.0) (0.1.0)\n",
            "Requirement already satisfied: click<9.0.0,>=7.1.1 in /usr/local/lib/python3.10/dist-packages (from typer<0.10.0,>=0.3.0->spacy<3.6.0,>=3.5.0->en-core-web-md==3.5.0) (8.1.6)\n",
            "Requirement already satisfied: MarkupSafe>=2.0 in /usr/local/lib/python3.10/dist-packages (from jinja2->spacy<3.6.0,>=3.5.0->en-core-web-md==3.5.0) (2.1.3)\n",
            "Installing collected packages: en-core-web-md\n",
            "Successfully installed en-core-web-md-3.5.0\n",
            "\u001b[38;5;2m✔ Download and installation successful\u001b[0m\n",
            "You can now load the package via spacy.load('en_core_web_md')\n"
          ]
        }
      ]
    },
    {
      "cell_type": "code",
      "source": [
        "# p. 30\n",
        "import spacy\n",
        "from spacy import displacy\n",
        "nlp = spacy.load('en_core_web_md')\n",
        "text = \"\"\"A ‘Leaner-Meaner’ DeSantis Campaign Faces a Reboot and a Reckoning\"\"\"\n",
        "doc = nlp(text)\n",
        "print(text)"
      ],
      "metadata": {
        "colab": {
          "base_uri": "https://localhost:8080/"
        },
        "id": "84o6Wen7nNqx",
        "outputId": "ff8487dc-58d9-4d38-90e0-ef71f3e5d304"
      },
      "execution_count": 4,
      "outputs": [
        {
          "output_type": "stream",
          "name": "stdout",
          "text": [
            "A ‘Leaner-Meaner’ DeSantis Campaign Faces a Reboot and a Reckoning\n"
          ]
        }
      ]
    },
    {
      "cell_type": "code",
      "source": [
        "# jump to p. 29\n",
        "if False: # This is broken\n",
        "  displacy.serve(doc, style='ent')\n",
        "  html = displacy.render(doc, style=\"dep\", page=True)\n"
      ],
      "metadata": {
        "id": "hxU_nq1Tn2R_"
      },
      "execution_count": 9,
      "outputs": []
    },
    {
      "cell_type": "code",
      "source": [
        "# Chapter 2 - Core Operations with spaCy\n",
        "doc = nlp(text)\n",
        "print(text)"
      ],
      "metadata": {
        "id": "yOfYLsHVrRVH",
        "outputId": "c5de4ba4-5bca-4f1e-f7c0-2629e7b7ed69",
        "colab": {
          "base_uri": "https://localhost:8080/"
        }
      },
      "execution_count": 10,
      "outputs": [
        {
          "output_type": "stream",
          "name": "stdout",
          "text": [
            "A ‘Leaner-Meaner’ DeSantis Campaign Faces a Reboot and a Reckoning\n"
          ]
        }
      ]
    },
    {
      "cell_type": "code",
      "source": [
        "print([token.text for token in doc])"
      ],
      "metadata": {
        "id": "63BguaFNtTL_",
        "outputId": "41f8f8ae-4eef-4aaa-e640-a1b91adfb56f",
        "colab": {
          "base_uri": "https://localhost:8080/"
        }
      },
      "execution_count": 7,
      "outputs": [
        {
          "output_type": "stream",
          "name": "stdout",
          "text": [
            "['A', '‘', 'Leaner', '-', 'Meaner', '’', 'DeSantis', 'Campaign', 'Faces', 'a', 'Reboot', 'and', 'a', 'Reckoning']\n"
          ]
        }
      ]
    },
    {
      "cell_type": "code",
      "source": [
        "# p. 44 - Sentence Segmentation\n",
        "text44 = \"\"\" Throughout the spring, Gov. Ron DeSantis of Florida and his advisers waved off his sagging poll numbers with the simple fact that he wasn’t yet an actual candidate for president.\n",
        "Two months in, however, his sputtering presidential campaign is still struggling to gain traction.\n",
        "Allies are complaining about a lack of a coherent message about why Republican voters should choose Mr. DeSantis over former President Donald J. Trump. Early strategic fissures have emerged between his own political team and the enormous super PAC that will spend tens of millions of dollars to help him. His Tallahassee-based campaign has begun shedding some of the more than 90 workers it had hired — roughly double the Trump campaign payroll — to cut swelling costs that have included $279,000 at the Four Seasons in Miami.\n",
        "\"\"\"\n",
        "doc44 = nlp(text44)\n",
        "for sents in doc44.sents:\n",
        "  print(\">>>\")\n",
        "  print(sents)\n",
        "  print(\"<<<\")"
      ],
      "metadata": {
        "id": "Q5aaVlL8tcPe",
        "outputId": "88cf3522-a8a2-4f0a-afc5-8b2f860e2e2d",
        "colab": {
          "base_uri": "https://localhost:8080/"
        }
      },
      "execution_count": 12,
      "outputs": [
        {
          "output_type": "stream",
          "name": "stdout",
          "text": [
            ">>>\n",
            " Throughout the spring, Gov. Ron DeSantis of Florida and his advisers waved off his sagging poll numbers with the simple fact that he wasn’t yet an actual candidate for president.\n",
            "\n",
            "<<<\n",
            ">>>\n",
            "Two months in, however, his sputtering presidential campaign is still struggling to gain traction.\n",
            "\n",
            "<<<\n",
            ">>>\n",
            "Allies are complaining about a lack of a coherent message about why Republican voters should choose Mr. DeSantis over former President Donald J. Trump.\n",
            "<<<\n",
            ">>>\n",
            "Early strategic fissures have emerged between his own political team and the enormous super PAC that will spend tens of millions of dollars to help him.\n",
            "<<<\n",
            ">>>\n",
            "His Tallahassee-based campaign has begun shedding some of the more than 90 workers it had hired — roughly double the Trump campaign payroll — to cut swelling costs that have included $279,000 at the Four Seasons in Miami.\n",
            "\n",
            "<<<\n"
          ]
        }
      ]
    },
    {
      "cell_type": "code",
      "source": [
        "# p. 45 - Lemmatization\n",
        "for token in doc44:\n",
        "  print(f\"token: \\\"{token.text}\\\"  -->  \\\"{token.lemma_}\\\"\")"
      ],
      "metadata": {
        "id": "DX-6YPDfxuFV",
        "outputId": "d12c065c-209d-4b61-b535-473913213493",
        "colab": {
          "base_uri": "https://localhost:8080/"
        }
      },
      "execution_count": 14,
      "outputs": [
        {
          "output_type": "stream",
          "name": "stdout",
          "text": [
            "token: \" \"  -->  \" \"\n",
            "token: \"Throughout\"  -->  \"throughout\"\n",
            "token: \"the\"  -->  \"the\"\n",
            "token: \"spring\"  -->  \"spring\"\n",
            "token: \",\"  -->  \",\"\n",
            "token: \"Gov.\"  -->  \"Gov.\"\n",
            "token: \"Ron\"  -->  \"Ron\"\n",
            "token: \"DeSantis\"  -->  \"DeSantis\"\n",
            "token: \"of\"  -->  \"of\"\n",
            "token: \"Florida\"  -->  \"Florida\"\n",
            "token: \"and\"  -->  \"and\"\n",
            "token: \"his\"  -->  \"his\"\n",
            "token: \"advisers\"  -->  \"adviser\"\n",
            "token: \"waved\"  -->  \"wave\"\n",
            "token: \"off\"  -->  \"off\"\n",
            "token: \"his\"  -->  \"his\"\n",
            "token: \"sagging\"  -->  \"sag\"\n",
            "token: \"poll\"  -->  \"poll\"\n",
            "token: \"numbers\"  -->  \"number\"\n",
            "token: \"with\"  -->  \"with\"\n",
            "token: \"the\"  -->  \"the\"\n",
            "token: \"simple\"  -->  \"simple\"\n",
            "token: \"fact\"  -->  \"fact\"\n",
            "token: \"that\"  -->  \"that\"\n",
            "token: \"he\"  -->  \"he\"\n",
            "token: \"was\"  -->  \"be\"\n",
            "token: \"n’t\"  -->  \"not\"\n",
            "token: \"yet\"  -->  \"yet\"\n",
            "token: \"an\"  -->  \"an\"\n",
            "token: \"actual\"  -->  \"actual\"\n",
            "token: \"candidate\"  -->  \"candidate\"\n",
            "token: \"for\"  -->  \"for\"\n",
            "token: \"president\"  -->  \"president\"\n",
            "token: \".\"  -->  \".\"\n",
            "token: \"\n",
            "\"  -->  \"\n",
            "\"\n",
            "token: \"Two\"  -->  \"two\"\n",
            "token: \"months\"  -->  \"month\"\n",
            "token: \"in\"  -->  \"in\"\n",
            "token: \",\"  -->  \",\"\n",
            "token: \"however\"  -->  \"however\"\n",
            "token: \",\"  -->  \",\"\n",
            "token: \"his\"  -->  \"his\"\n",
            "token: \"sputtering\"  -->  \"sputter\"\n",
            "token: \"presidential\"  -->  \"presidential\"\n",
            "token: \"campaign\"  -->  \"campaign\"\n",
            "token: \"is\"  -->  \"be\"\n",
            "token: \"still\"  -->  \"still\"\n",
            "token: \"struggling\"  -->  \"struggle\"\n",
            "token: \"to\"  -->  \"to\"\n",
            "token: \"gain\"  -->  \"gain\"\n",
            "token: \"traction\"  -->  \"traction\"\n",
            "token: \".\"  -->  \".\"\n",
            "token: \"\n",
            "\"  -->  \"\n",
            "\"\n",
            "token: \"Allies\"  -->  \"ally\"\n",
            "token: \"are\"  -->  \"be\"\n",
            "token: \"complaining\"  -->  \"complain\"\n",
            "token: \"about\"  -->  \"about\"\n",
            "token: \"a\"  -->  \"a\"\n",
            "token: \"lack\"  -->  \"lack\"\n",
            "token: \"of\"  -->  \"of\"\n",
            "token: \"a\"  -->  \"a\"\n",
            "token: \"coherent\"  -->  \"coherent\"\n",
            "token: \"message\"  -->  \"message\"\n",
            "token: \"about\"  -->  \"about\"\n",
            "token: \"why\"  -->  \"why\"\n",
            "token: \"Republican\"  -->  \"republican\"\n",
            "token: \"voters\"  -->  \"voter\"\n",
            "token: \"should\"  -->  \"should\"\n",
            "token: \"choose\"  -->  \"choose\"\n",
            "token: \"Mr.\"  -->  \"Mr.\"\n",
            "token: \"DeSantis\"  -->  \"DeSantis\"\n",
            "token: \"over\"  -->  \"over\"\n",
            "token: \"former\"  -->  \"former\"\n",
            "token: \"President\"  -->  \"President\"\n",
            "token: \"Donald\"  -->  \"Donald\"\n",
            "token: \"J.\"  -->  \"J.\"\n",
            "token: \"Trump\"  -->  \"Trump\"\n",
            "token: \".\"  -->  \".\"\n",
            "token: \"Early\"  -->  \"early\"\n",
            "token: \"strategic\"  -->  \"strategic\"\n",
            "token: \"fissures\"  -->  \"fissure\"\n",
            "token: \"have\"  -->  \"have\"\n",
            "token: \"emerged\"  -->  \"emerge\"\n",
            "token: \"between\"  -->  \"between\"\n",
            "token: \"his\"  -->  \"his\"\n",
            "token: \"own\"  -->  \"own\"\n",
            "token: \"political\"  -->  \"political\"\n",
            "token: \"team\"  -->  \"team\"\n",
            "token: \"and\"  -->  \"and\"\n",
            "token: \"the\"  -->  \"the\"\n",
            "token: \"enormous\"  -->  \"enormous\"\n",
            "token: \"super\"  -->  \"super\"\n",
            "token: \"PAC\"  -->  \"PAC\"\n",
            "token: \"that\"  -->  \"that\"\n",
            "token: \"will\"  -->  \"will\"\n",
            "token: \"spend\"  -->  \"spend\"\n",
            "token: \"tens\"  -->  \"ten\"\n",
            "token: \"of\"  -->  \"of\"\n",
            "token: \"millions\"  -->  \"million\"\n",
            "token: \"of\"  -->  \"of\"\n",
            "token: \"dollars\"  -->  \"dollar\"\n",
            "token: \"to\"  -->  \"to\"\n",
            "token: \"help\"  -->  \"help\"\n",
            "token: \"him\"  -->  \"he\"\n",
            "token: \".\"  -->  \".\"\n",
            "token: \"His\"  -->  \"his\"\n",
            "token: \"Tallahassee\"  -->  \"Tallahassee\"\n",
            "token: \"-\"  -->  \"-\"\n",
            "token: \"based\"  -->  \"base\"\n",
            "token: \"campaign\"  -->  \"campaign\"\n",
            "token: \"has\"  -->  \"have\"\n",
            "token: \"begun\"  -->  \"begin\"\n",
            "token: \"shedding\"  -->  \"shed\"\n",
            "token: \"some\"  -->  \"some\"\n",
            "token: \"of\"  -->  \"of\"\n",
            "token: \"the\"  -->  \"the\"\n",
            "token: \"more\"  -->  \"more\"\n",
            "token: \"than\"  -->  \"than\"\n",
            "token: \"90\"  -->  \"90\"\n",
            "token: \"workers\"  -->  \"worker\"\n",
            "token: \"it\"  -->  \"it\"\n",
            "token: \"had\"  -->  \"have\"\n",
            "token: \"hired\"  -->  \"hire\"\n",
            "token: \"—\"  -->  \"—\"\n",
            "token: \"roughly\"  -->  \"roughly\"\n",
            "token: \"double\"  -->  \"double\"\n",
            "token: \"the\"  -->  \"the\"\n",
            "token: \"Trump\"  -->  \"Trump\"\n",
            "token: \"campaign\"  -->  \"campaign\"\n",
            "token: \"payroll\"  -->  \"payroll\"\n",
            "token: \"—\"  -->  \"—\"\n",
            "token: \"to\"  -->  \"to\"\n",
            "token: \"cut\"  -->  \"cut\"\n",
            "token: \"swelling\"  -->  \"swell\"\n",
            "token: \"costs\"  -->  \"cost\"\n",
            "token: \"that\"  -->  \"that\"\n",
            "token: \"have\"  -->  \"have\"\n",
            "token: \"included\"  -->  \"include\"\n",
            "token: \"$\"  -->  \"$\"\n",
            "token: \"279,000\"  -->  \"279,000\"\n",
            "token: \"at\"  -->  \"at\"\n",
            "token: \"the\"  -->  \"the\"\n",
            "token: \"Four\"  -->  \"Four\"\n",
            "token: \"Seasons\"  -->  \"Seasons\"\n",
            "token: \"in\"  -->  \"in\"\n",
            "token: \"Miami\"  -->  \"Miami\"\n",
            "token: \".\"  -->  \".\"\n",
            "token: \"\n",
            "\"  -->  \"\n",
            "\"\n"
          ]
        }
      ]
    },
    {
      "cell_type": "code",
      "source": [],
      "metadata": {
        "id": "EYCarxFNyg7F"
      },
      "execution_count": null,
      "outputs": []
    }
  ]
}