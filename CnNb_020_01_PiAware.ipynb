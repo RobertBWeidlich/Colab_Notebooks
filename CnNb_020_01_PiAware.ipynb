{
  "nbformat": 4,
  "nbformat_minor": 0,
  "metadata": {
    "colab": {
      "provenance": [],
      "authorship_tag": "ABX9TyMdptIUecVGrjjNJBiN3H1y",
      "include_colab_link": true
    },
    "kernelspec": {
      "name": "python3",
      "display_name": "Python 3"
    },
    "language_info": {
      "name": "python"
    }
  },
  "cells": [
    {
      "cell_type": "markdown",
      "metadata": {
        "id": "view-in-github",
        "colab_type": "text"
      },
      "source": [
        "<a href=\"https://colab.research.google.com/github/RobertBWeidlich/Colab_Notebooks/blob/main/CnNb_020_01_PiAware.ipynb\" target=\"_parent\"><img src=\"https://colab.research.google.com/assets/colab-badge.svg\" alt=\"Open In Colab\"/></a>"
      ]
    },
    {
      "cell_type": "markdown",
      "source": [],
      "metadata": {
        "id": "_s0V4Ibj--m0"
      }
    },
    {
      "cell_type": "code",
      "source": [
        "# Read a Piaware data file"
      ],
      "metadata": {
        "id": "mFCUBiXc_COX"
      },
      "execution_count": null,
      "outputs": []
    },
    {
      "cell_type": "code",
      "source": [
        "PIAWARE_DATA_DIR=\"/content/data/2024/\"\n",
        "\n",
        "import os\n",
        "\n",
        "def list_files_recursively(directory):\n",
        "\n",
        "    # Walk through the directory\n",
        "    file_list = []\n",
        "    for dirpath, dirnames, filenames in os.walk(directory):\n",
        "        for filename in filenames:\n",
        "            # Join the directory path with the file name to get the full path\n",
        "            filepath = os.path.join(dirpath, filename)\n",
        "            #print(filepath)\n",
        "            file_list.append(filepath)\n",
        "    return file_list\n",
        "\n",
        "file_list = list_files_recursively(PIAWARE_DATA_DIR)\n",
        "file_list_len = len(file_list)\n",
        "print(f\"{file_list_len} files in file_list\")\n"
      ],
      "metadata": {
        "id": "gIjeinLh-5co",
        "outputId": "757b2340-f4dc-4dd7-c9ad-e06d866c9054",
        "colab": {
          "base_uri": "https://localhost:8080/"
        }
      },
      "execution_count": 5,
      "outputs": [
        {
          "output_type": "stream",
          "name": "stdout",
          "text": [
            "0 files in file_list\n"
          ]
        }
      ]
    },
    {
      "cell_type": "code",
      "source": [
        "# pick a random file\n",
        "file_list_len = len(file_list)\n",
        "file_index = int(file_list_len * 0.35)\n",
        "print(file_list_len)\n",
        "print(file_index)\n",
        "\n",
        "pa_file = file_list[file_index]\n",
        "print(f\"pa_file: {pa_file}\")\n",
        "try:\n",
        "  with open(pa_file, 'r') as file:\n",
        "    # Read the contents of the file\n",
        "    contents = file.read()\n",
        "    # Print the file contents\n",
        "    print(contents)\n",
        "except FileNotFoundError:\n",
        "  print(f\"The file '{file_name}' was not found.\")\n",
        "except IOError:\n",
        "  print(f\"An error occurred while trying to read the file '{file_name}'.\")"
      ],
      "metadata": {
        "id": "4sdmIS2L_VUg",
        "outputId": "bcf553df-b975-40b3-97a2-5c1fea3a7de9",
        "colab": {
          "base_uri": "https://localhost:8080/"
        }
      },
      "execution_count": null,
      "outputs": [
        {
          "output_type": "stream",
          "name": "stdout",
          "text": [
            "32957\n",
            "11534\n",
            "pa_file: /content/data/2024/10/04/11/piaware_raw-20241004.1158.40.015662.json\n",
            "{ \"now\" : 1728057519.3,\n",
            "  \"messages\" : 2468159384,\n",
            "  \"aircraft\" : [\n",
            "    {\"hex\":\"a9a541\",\"alt_baro\":40000,\"version\":0,\"nac_p\":8,\"sil\":2,\"sil_type\":\"unknown\",\"mlat\":[],\"tisb\":[],\"messages\":11,\"seen\":6.3,\"rssi\":-17.5},\n",
            "    {\"hex\":\"ac7e15\",\"alt_baro\":30000,\"alt_geom\":31375,\"gs\":405.9,\"track\":229.8,\"baro_rate\":0,\"nav_qnh\":1013.6,\"nav_altitude_mcp\":30016,\"nav_heading\":240.5,\"lat\":39.522291,\"lon\":-76.296387,\"nic\":8,\"rc\":186,\"seen_pos\":6.4,\"version\":2,\"nic_baro\":1,\"nac_p\":9,\"nac_v\":1,\"sil\":3,\"sil_type\":\"perhour\",\"gva\":2,\"sda\":2,\"mlat\":[],\"tisb\":[],\"messages\":167,\"seen\":0.6,\"rssi\":-13.8},\n",
            "    {\"hex\":\"a44e1c\",\"flight\":\"DAL2411 \",\"alt_baro\":34000,\"alt_geom\":35450,\"gs\":401.0,\"track\":236.4,\"baro_rate\":0,\"squawk\":\"3054\",\"emergency\":\"none\",\"category\":\"A3\",\"nav_qnh\":1013.6,\"nav_altitude_mcp\":34016,\"nav_heading\":248.9,\"lat\":39.903854,\"lon\":-76.189171,\"nic\":8,\"rc\":186,\"seen_pos\":22.4,\"version\":2,\"nic_baro\":1,\"nac_p\":10,\"nac_v\":2,\"sil\":3,\"sil_type\":\"perhour\",\"gva\":2,\"sda\":2,\"mlat\":[],\"tisb\":[],\"messages\":296,\"seen\":16.8,\"rssi\":-16.4},\n",
            "    {\"hex\":\"a6aac2\",\"flight\":\"JIA5180 \",\"alt_baro\":34000,\"alt_geom\":35675,\"gs\":503.3,\"track\":32.2,\"geom_rate\":0,\"squawk\":\"2257\",\"emergency\":\"none\",\"category\":\"A3\",\"nav_qnh\":1012.8,\"nav_altitude_mcp\":34016,\"nav_heading\":33.0,\"lat\":38.113358,\"lon\":-76.661137,\"nic\":8,\"rc\":186,\"seen_pos\":1.5,\"version\":2,\"nic_baro\":1,\"nac_p\":10,\"nac_v\":1,\"sil\":3,\"sil_type\":\"perhour\",\"gva\":2,\"sda\":2,\"mlat\":[],\"tisb\":[],\"messages\":648,\"seen\":1.3,\"rssi\":-16.5},\n",
            "    {\"hex\":\"aa9f6f\",\"alt_baro\":38000,\"alt_geom\":39600,\"gs\":416.4,\"track\":230.7,\"baro_rate\":0,\"squawk\":\"2420\",\"emergency\":\"none\",\"nav_qnh\":1012.8,\"nav_altitude_mcp\":38016,\"nav_heading\":248.2,\"lat\":39.599808,\"lon\":-76.177109,\"nic\":8,\"rc\":186,\"seen_pos\":0.4,\"version\":2,\"nic_baro\":1,\"nac_p\":9,\"nac_v\":1,\"sil\":3,\"sil_type\":\"perhour\",\"gva\":2,\"sda\":2,\"mlat\":[],\"tisb\":[],\"messages\":179,\"seen\":0.4,\"rssi\":-12.8},\n",
            "    {\"hex\":\"a4ee36\",\"alt_baro\":18500,\"squawk\":\"2641\",\"emergency\":\"none\",\"version\":0,\"nac_p\":8,\"sil\":2,\"sil_type\":\"unknown\",\"mlat\":[],\"tisb\":[],\"messages\":36,\"seen\":6.3,\"rssi\":-16.9},\n",
            "    {\"hex\":\"a7869b\",\"alt_baro\":35000,\"alt_geom\":36625,\"gs\":455.1,\"track\":347.3,\"baro_rate\":0,\"nav_qnh\":1013.6,\"nav_altitude_mcp\":35008,\"lat\":38.637100,\"lon\":-78.142334,\"nic\":8,\"rc\":186,\"seen_pos\":1.1,\"version\":0,\"nic_baro\":1,\"nac_p\":8,\"nac_v\":1,\"sil\":2,\"sil_type\":\"unknown\",\"mlat\":[],\"tisb\":[],\"messages\":61,\"seen\":1.1,\"rssi\":-16.4},\n",
            "    {\"hex\":\"a699b0\",\"flight\":\"VOS4326 \",\"alt_baro\":3775,\"alt_geom\":4075,\"gs\":251.1,\"track\":1.6,\"baro_rate\":0,\"squawk\":\"2707\",\"emergency\":\"none\",\"category\":\"A3\",\"nav_qnh\":1022.4,\"nav_altitude_mcp\":4000,\"lat\":38.827240,\"lon\":-77.355214,\"nic\":8,\"rc\":186,\"seen_pos\":0.0,\"version\":2,\"nic_baro\":1,\"nac_p\":10,\"nac_v\":2,\"sil\":3,\"sil_type\":\"perhour\",\"gva\":2,\"sda\":2,\"mlat\":[],\"tisb\":[],\"messages\":346,\"seen\":0.0,\"rssi\":-9.2},\n",
            "    {\"hex\":\"ae2fd3\",\"alt_baro\":21750,\"alt_geom\":22850,\"gs\":182.9,\"track\":218.6,\"baro_rate\":0,\"nav_qnh\":1021.6,\"nav_altitude_fms\":21888,\"nav_heading\":0.0,\"lat\":38.477799,\"lon\":-75.980286,\"nic\":8,\"rc\":186,\"seen_pos\":5.2,\"version\":0,\"nic_baro\":1,\"nac_p\":8,\"nac_v\":4,\"sil\":2,\"sil_type\":\"unknown\",\"mlat\":[],\"tisb\":[],\"messages\":63,\"seen\":4.6,\"rssi\":-15.3},\n",
            "    {\"hex\":\"a05470\",\"flight\":\"RPA4418 \",\"alt_baro\":34000,\"alt_geom\":35350,\"gs\":395.2,\"track\":236.4,\"baro_rate\":64,\"category\":\"A3\",\"nav_qnh\":1013.6,\"nav_altitude_mcp\":34016,\"nav_modes\":[\"autopilot\",\"vnav\",\"tcas\"],\"lat\":39.798020,\"lon\":-76.395691,\"nic\":8,\"rc\":186,\"seen_pos\":0.9,\"version\":2,\"nic_baro\":1,\"nac_p\":10,\"nac_v\":2,\"sil\":3,\"sil_type\":\"perhour\",\"gva\":2,\"sda\":2,\"mlat\":[],\"tisb\":[],\"messages\":331,\"seen\":0.0,\"rssi\":-11.7},\n",
            "    {\"hex\":\"abd230\",\"flight\":\"SWA3094 \",\"alt_baro\":12725,\"alt_geom\":13275,\"gs\":365.1,\"track\":271.4,\"baro_rate\":3392,\"squawk\":\"6236\",\"emergency\":\"none\",\"category\":\"A3\",\"nav_qnh\":1022.4,\"nav_altitude_mcp\":23008,\"nav_heading\":340.3,\"lat\":39.221191,\"lon\":-77.043059,\"nic\":8,\"rc\":186,\"seen_pos\":1.9,\"version\":2,\"nic_baro\":1,\"nac_p\":10,\"nac_v\":2,\"sil\":3,\"sil_type\":\"perhour\",\"gva\":2,\"sda\":2,\"mlat\":[],\"tisb\":[],\"messages\":706,\"seen\":0.4,\"rssi\":-8.6},\n",
            "    {\"hex\":\"abb8c4\",\"flight\":\"SWA3319 \",\"alt_baro\":24425,\"alt_geom\":25675,\"gs\":458.9,\"track\":72.6,\"baro_rate\":-2112,\"squawk\":\"6775\",\"emergency\":\"none\",\"category\":\"A3\",\"lat\":38.551849,\"lon\":-78.225224,\"nic\":8,\"rc\":186,\"seen_pos\":1.8,\"version\":2,\"nac_v\":2,\"sil_type\":\"perhour\",\"mlat\":[],\"tisb\":[],\"messages\":60,\"seen\":1.3,\"rssi\":-16.5},\n",
            "    {\"hex\":\"abe82c\",\"category\":\"A3\",\"version\":2,\"sil_type\":\"perhour\",\"mlat\":[],\"tisb\":[],\"messages\":111,\"seen\":147.2,\"rssi\":-15.2},\n",
            "    {\"hex\":\"a01f73\",\"flight\":\"RPA4421 \",\"alt_baro\":8750,\"alt_geom\":9250,\"gs\":296.5,\"track\":26.7,\"baro_rate\":-64,\"squawk\":\"4607\",\"emergency\":\"none\",\"category\":\"A3\",\"nav_qnh\":1022.4,\"nav_altitude_mcp\":9024,\"nav_modes\":[\"autopilot\",\"althold\",\"tcas\"],\"lat\":38.723373,\"lon\":-77.042820,\"nic\":8,\"rc\":186,\"seen_pos\":8.7,\"version\":2,\"nic_baro\":1,\"nac_p\":10,\"nac_v\":2,\"sil\":3,\"sil_type\":\"perhour\",\"gva\":2,\"sda\":2,\"mlat\":[],\"tisb\":[],\"messages\":1252,\"seen\":6.6,\"rssi\":-14.2},\n",
            "    {\"hex\":\"a79821\",\"flight\":\"JBU698  \",\"alt_baro\":36175,\"alt_geom\":37950,\"gs\":485.2,\"track\":26.8,\"baro_rate\":-960,\"squawk\":\"0722\",\"emergency\":\"none\",\"category\":\"A3\",\"nav_qnh\":1013.6,\"nav_altitude_mcp\":31008,\"nav_heading\":0.0,\"lat\":38.198625,\"lon\":-76.473979,\"nic\":8,\"rc\":186,\"seen_pos\":1.2,\"version\":2,\"nic_baro\":1,\"nac_p\":10,\"nac_v\":2,\"sil\":3,\"sil_type\":\"perhour\",\"gva\":2,\"sda\":2,\"mlat\":[],\"tisb\":[],\"messages\":1189,\"seen\":0.3,\"rssi\":-16.0},\n",
            "    {\"hex\":\"ac2f18\",\"version\":0,\"sil_type\":\"unknown\",\"mlat\":[],\"tisb\":[],\"messages\":21,\"seen\":125.9,\"rssi\":-18.0},\n",
            "    {\"hex\":\"a0d72b\",\"flight\":\"AAL1379 \",\"alt_baro\":35025,\"alt_geom\":36700,\"gs\":503.2,\"track\":32.6,\"baro_rate\":0,\"squawk\":\"6051\",\"emergency\":\"none\",\"category\":\"A3\",\"nav_qnh\":1013.6,\"nav_altitude_mcp\":35008,\"lat\":38.313190,\"lon\":-76.506401,\"nic\":8,\"rc\":186,\"seen_pos\":12.6,\"version\":2,\"nic_baro\":1,\"nac_p\":9,\"nac_v\":1,\"sil\":3,\"sil_type\":\"perhour\",\"gva\":2,\"sda\":2,\"mlat\":[],\"tisb\":[],\"messages\":1340,\"seen\":0.8,\"rssi\":-17.4},\n",
            "    {\"hex\":\"a03510\",\"flight\":\"EJA112  \",\"alt_baro\":3100,\"alt_geom\":3350,\"gs\":274.1,\"track\":1.5,\"geom_rate\":-896,\"squawk\":\"0570\",\"emergency\":\"none\",\"category\":\"A3\",\"nav_qnh\":1022.4,\"nav_altitude_mcp\":3008,\"nav_heading\":12.0,\"lat\":38.947906,\"lon\":-77.350796,\"nic\":8,\"rc\":186,\"seen_pos\":0.4,\"version\":2,\"nic_baro\":1,\"nac_p\":10,\"nac_v\":1,\"sil\":3,\"sil_type\":\"perhour\",\"gva\":2,\"sda\":2,\"mlat\":[],\"tisb\":[],\"messages\":1412,\"seen\":0.1,\"rssi\":-4.1},\n",
            "    {\"hex\":\"a3298a\",\"flight\":\"JBU1310 \",\"alt_baro\":35000,\"alt_geom\":36675,\"gs\":489.9,\"track\":32.7,\"geom_rate\":-64,\"squawk\":\"0745\",\"category\":\"A3\",\"nav_qnh\":1012.8,\"nav_altitude_mcp\":35008,\"nav_heading\":36.6,\"lat\":38.002396,\"lon\":-76.766091,\"nic\":8,\"rc\":186,\"seen_pos\":0.2,\"version\":2,\"nic_baro\":1,\"nac_p\":10,\"nac_v\":1,\"sil\":3,\"sil_type\":\"perhour\",\"gva\":2,\"sda\":2,\"mlat\":[],\"tisb\":[],\"messages\":194,\"seen\":0.1,\"rssi\":-13.7},\n",
            "    {\"hex\":\"acd964\",\"flight\":\"AAL2332 \",\"alt_baro\":27775,\"alt_geom\":29125,\"gs\":415.1,\"track\":225.3,\"baro_rate\":1408,\"squawk\":\"1102\",\"emergency\":\"none\",\"category\":\"A3\",\"nav_qnh\":1013.6,\"nav_altitude_mcp\":32000,\"nav_heading\":237.0,\"lat\":39.224310,\"lon\":-76.698486,\"nic\":8,\"rc\":186,\"seen_pos\":0.3,\"version\":2,\"nic_baro\":1,\"nac_p\":9,\"nac_v\":1,\"sil\":3,\"sil_type\":\"perhour\",\"gva\":2,\"sda\":2,\"mlat\":[],\"tisb\":[],\"messages\":870,\"seen\":0.2,\"rssi\":-9.3},\n",
            "    {\"hex\":\"a4bfc7\",\"flight\":\"LXJ405  \",\"alt_baro\":42975,\"alt_geom\":44600,\"gs\":382.9,\"track\":220.8,\"geom_rate\":0,\"squawk\":\"1136\",\"emergency\":\"none\",\"category\":\"A2\",\"nav_qnh\":1012.8,\"nav_altitude_mcp\":43008,\"nav_heading\":240.5,\"lat\":39.356049,\"lon\":-76.698602,\"nic\":8,\"rc\":186,\"seen_pos\":9.8,\"version\":2,\"nic_baro\":1,\"nac_p\":10,\"nac_v\":1,\"sil\":3,\"sil_type\":\"perhour\",\"gva\":2,\"sda\":2,\"mlat\":[],\"tisb\":[],\"messages\":581,\"seen\":8.9,\"rssi\":-13.6},\n",
            "    {\"hex\":\"ac28be\",\"alt_baro\":34000,\"alt_geom\":35400,\"gs\":401.0,\"track\":250.9,\"baro_rate\":0,\"nav_qnh\":1013.6,\"nav_altitude_mcp\":34016,\"nav_heading\":263.0,\"version\":2,\"nic_baro\":1,\"nac_p\":10,\"nac_v\":2,\"sil\":3,\"sil_type\":\"perhour\",\"mlat\":[],\"tisb\":[],\"messages\":107,\"seen\":7.1,\"rssi\":-17.6},\n",
            "    {\"hex\":\"a6893c\",\"flight\":\"JIA5640 \",\"alt_baro\":12525,\"alt_geom\":13150,\"gs\":349.4,\"track\":335.1,\"geom_rate\":2048,\"squawk\":\"3630\",\"emergency\":\"none\",\"category\":\"A2\",\"nav_qnh\":1022.4,\"nav_altitude_mcp\":12992,\"lat\":38.880020,\"lon\":-77.323210,\"nic\":8,\"rc\":186,\"seen_pos\":0.2,\"version\":2,\"nic_baro\":1,\"nac_p\":10,\"nac_v\":1,\"sil\":3,\"sil_type\":\"perhour\",\"gva\":2,\"sda\":2,\"mlat\":[],\"tisb\":[],\"messages\":2774,\"seen\":0.1,\"rssi\":-2.9},\n",
            "    {\"hex\":\"a05bde\",\"flight\":\"RPA4373 \",\"alt_baro\":13100,\"alt_geom\":13775,\"gs\":352.4,\"track\":59.3,\"baro_rate\":1856,\"squawk\":\"5627\",\"emergency\":\"none\",\"category\":\"A3\",\"nav_qnh\":1022.4,\"nav_altitude_mcp\":19008,\"nav_modes\":[\"autopilot\",\"vnav\",\"tcas\"],\"lat\":39.048250,\"lon\":-76.762146,\"nic\":8,\"rc\":186,\"seen_pos\":5.1,\"version\":2,\"nic_baro\":1,\"nac_p\":10,\"nac_v\":2,\"sil\":3,\"sil_type\":\"perhour\",\"gva\":2,\"sda\":2,\"mlat\":[],\"tisb\":[],\"messages\":582,\"seen\":3.4,\"rssi\":-13.5},\n",
            "    {\"hex\":\"a7e630\",\"flight\":\"JIA5444 \",\"alt_baro\":26125,\"alt_geom\":27375,\"gs\":397.7,\"track\":219.7,\"geom_rate\":1216,\"squawk\":\"1105\",\"emergency\":\"none\",\"category\":\"A3\",\"nav_qnh\":1012.8,\"nav_altitude_mcp\":34016,\"nav_heading\":232.0,\"lat\":39.454239,\"lon\":-77.021086,\"nic\":8,\"rc\":186,\"seen_pos\":1.6,\"version\":2,\"nic_baro\":1,\"nac_p\":10,\"nac_v\":1,\"sil\":3,\"sil_type\":\"perhour\",\"gva\":2,\"sda\":2,\"mlat\":[],\"tisb\":[],\"messages\":1452,\"seen\":0.1,\"rssi\":-9.7},\n",
            "    {\"hex\":\"aaffaa\",\"flight\":\"AAL1223 \",\"alt_baro\":18575,\"alt_geom\":19400,\"gs\":384.1,\"track\":67.2,\"baro_rate\":2432,\"category\":\"A3\",\"nav_qnh\":1012.8,\"nav_altitude_mcp\":20992,\"lat\":38.967621,\"lon\":-76.543701,\"nic\":8,\"rc\":186,\"seen_pos\":44.4,\"version\":2,\"nic_baro\":1,\"nac_p\":9,\"nac_v\":1,\"sil\":3,\"sil_type\":\"perhour\",\"gva\":2,\"sda\":2,\"mlat\":[],\"tisb\":[],\"messages\":407,\"seen\":0.1,\"rssi\":-16.2},\n",
            "    {\"hex\":\"a95635\",\"flight\":\"N700SY  \",\"alt_baro\":6750,\"alt_geom\":7175,\"gs\":238.4,\"track\":108.6,\"baro_rate\":0,\"squawk\":\"4725\",\"emergency\":\"none\",\"category\":\"A1\",\"nav_qnh\":1022.4,\"nav_altitude_mcp\":7008,\"lat\":39.347907,\"lon\":-76.968079,\"nic\":9,\"rc\":75,\"seen_pos\":0.6,\"version\":2,\"nic_baro\":1,\"nac_p\":10,\"nac_v\":2,\"sil\":3,\"sil_type\":\"perhour\",\"gva\":2,\"sda\":2,\"mlat\":[],\"tisb\":[],\"messages\":566,\"seen\":0.4,\"rssi\":-15.3},\n",
            "    {\"hex\":\"ab7b8c\",\"flight\":\"UAL674  \",\"alt_baro\":35025,\"alt_geom\":36650,\"gs\":508.8,\"track\":37.3,\"baro_rate\":-64,\"squawk\":\"3606\",\"emergency\":\"none\",\"category\":\"A3\",\"nav_qnh\":1012.8,\"nav_altitude_mcp\":27008,\"lat\":38.582308,\"lon\":-76.808533,\"nic\":8,\"rc\":186,\"seen_pos\":5.1,\"version\":2,\"nic_baro\":1,\"nac_p\":9,\"nac_v\":1,\"sil\":3,\"sil_type\":\"perhour\",\"gva\":2,\"sda\":2,\"mlat\":[],\"tisb\":[],\"messages\":1549,\"seen\":0.2,\"rssi\":-12.2},\n",
            "    {\"hex\":\"c05c86\",\"alt_baro\":9750,\"alt_geom\":10225,\"gs\":245.2,\"track\":151.8,\"geom_rate\":0,\"squawk\":\"6246\",\"emergency\":\"none\",\"category\":\"A3\",\"nav_qnh\":1022.4,\"nav_altitude_mcp\":10016,\"nav_heading\":168.8,\"lat\":39.228287,\"lon\":-76.701647,\"nic\":8,\"rc\":186,\"seen_pos\":2.7,\"version\":2,\"nic_baro\":1,\"nac_p\":10,\"nac_v\":1,\"sil\":3,\"sil_type\":\"perhour\",\"gva\":2,\"sda\":2,\"mlat\":[],\"tisb\":[],\"messages\":831,\"seen\":0.8,\"rssi\":-15.1},\n",
            "    {\"hex\":\"a45e8a\",\"version\":0,\"sil_type\":\"unknown\",\"mlat\":[],\"tisb\":[],\"messages\":37,\"seen\":256.0,\"rssi\":-17.7},\n",
            "    {\"hex\":\"a53b26\",\"category\":\"A1\",\"version\":2,\"sil_type\":\"perhour\",\"mlat\":[],\"tisb\":[],\"messages\":20,\"seen\":248.4,\"rssi\":-18.1},\n",
            "    {\"hex\":\"a6152a\",\"alt_baro\":33000,\"alt_geom\":34575,\"gs\":495.5,\"track\":37.7,\"geom_rate\":0,\"category\":\"A3\",\"lat\":38.508058,\"lon\":-76.203186,\"nic\":8,\"rc\":186,\"seen_pos\":67.4,\"version\":2,\"nac_v\":1,\"sil_type\":\"perhour\",\"mlat\":[],\"tisb\":[],\"messages\":1317,\"seen\":11.4,\"rssi\":-18.8},\n",
            "    {\"hex\":\"aaa58b\",\"flight\":\"UAL1044 \",\"alt_baro\":10750,\"alt_geom\":11275,\"gs\":286.3,\"track\":177.6,\"baro_rate\":0,\"squawk\":\"3263\",\"emergency\":\"none\",\"category\":\"A3\",\"nav_qnh\":1022.4,\"nav_altitude_mcp\":11008,\"nav_heading\":189.8,\"lat\":38.898056,\"lon\":-77.814849,\"nic\":8,\"rc\":186,\"seen_pos\":2.4,\"version\":2,\"nic_baro\":1,\"nac_p\":9,\"nac_v\":1,\"sil\":3,\"sil_type\":\"perhour\",\"gva\":2,\"sda\":2,\"mlat\":[],\"tisb\":[],\"messages\":1303,\"seen\":0.1,\"rssi\":-11.5},\n",
            "    {\"hex\":\"aaa326\",\"flight\":\"AAL731  \",\"alt_baro\":38000,\"alt_geom\":39625,\"gs\":408.0,\"track\":225.3,\"baro_rate\":0,\"squawk\":\"2411\",\"emergency\":\"none\",\"category\":\"A5\",\"nav_qnh\":1012.8,\"nav_altitude_mcp\":38016,\"nav_heading\":241.9,\"lat\":39.255753,\"lon\":-76.657702,\"nic\":8,\"rc\":186,\"seen_pos\":0.2,\"version\":2,\"nic_baro\":1,\"nac_p\":9,\"nac_v\":1,\"sil\":3,\"sil_type\":\"perhour\",\"gva\":2,\"sda\":2,\"mlat\":[],\"tisb\":[],\"messages\":3118,\"seen\":0.1,\"rssi\":-4.8},\n",
            "    {\"hex\":\"a897f4\",\"flight\":\"AAL1360 \",\"alt_baro\":36000,\"alt_geom\":37600,\"gs\":407.9,\"track\":206.2,\"baro_rate\":0,\"squawk\":\"2730\",\"emergency\":\"none\",\"category\":\"A3\",\"nav_qnh\":1012.8,\"nav_altitude_mcp\":36000,\"lat\":39.356146,\"lon\":-77.319885,\"nic\":8,\"rc\":186,\"seen_pos\":5.6,\"version\":2,\"nic_baro\":1,\"nac_p\":9,\"nac_v\":1,\"sil\":3,\"sil_type\":\"perhour\",\"gva\":2,\"sda\":2,\"mlat\":[],\"tisb\":[],\"messages\":1746,\"seen\":3.7,\"rssi\":-10.6},\n",
            "    {\"hex\":\"ab0d76\",\"alt_baro\":32000,\"alt_geom\":33350,\"gs\":412.0,\"track\":270.1,\"baro_rate\":0,\"category\":\"A3\",\"nav_qnh\":1013.6,\"nav_altitude_mcp\":32000,\"nav_heading\":350.9,\"lat\":40.071794,\"lon\":-76.869028,\"nic\":8,\"rc\":186,\"seen_pos\":46.4,\"version\":2,\"nic_baro\":1,\"nac_p\":10,\"nac_v\":2,\"sil\":3,\"sil_type\":\"perhour\",\"mlat\":[],\"tisb\":[],\"messages\":1026,\"seen\":0.6,\"rssi\":-18.0},\n",
            "    {\"hex\":\"a1623f\",\"flight\":\"N189BL  \",\"alt_baro\":30000,\"alt_geom\":31325,\"gs\":263.0,\"track\":242.9,\"baro_rate\":0,\"squawk\":\"2762\",\"emergency\":\"none\",\"category\":\"A1\",\"nav_qnh\":1013.6,\"nav_altitude_mcp\":30016,\"nav_heading\":254.5,\"nav_modes\":[\"autopilot\",\"althold\",\"lnav\"],\"lat\":39.310246,\"lon\":-78.038269,\"nic\":9,\"rc\":75,\"seen_pos\":1.8,\"version\":2,\"nic_baro\":1,\"nac_p\":10,\"nac_v\":2,\"sil\":3,\"sil_type\":\"perhour\",\"gva\":2,\"sda\":2,\"mlat\":[],\"tisb\":[],\"messages\":2049,\"seen\":1.4,\"rssi\":-14.5},\n",
            "    {\"hex\":\"aa763f\",\"alt_baro\":23100,\"alt_geom\":24350,\"gs\":447.5,\"track\":75.4,\"baro_rate\":-1856,\"squawk\":\"5613\",\"emergency\":\"none\",\"category\":\"A3\",\"nav_qnh\":1012.8,\"nav_altitude_mcp\":15008,\"lat\":38.719638,\"lon\":-76.680847,\"nic\":8,\"rc\":186,\"seen_pos\":24.5,\"version\":2,\"nic_baro\":1,\"nac_p\":9,\"nac_v\":1,\"sil\":3,\"sil_type\":\"perhour\",\"mlat\":[],\"tisb\":[],\"messages\":2783,\"seen\":7.3,\"rssi\":-15.9},\n",
            "    {\"hex\":\"a1ea70\",\"alt_baro\":19675,\"alt_geom\":20600,\"gs\":407.0,\"track\":243.1,\"baro_rate\":2240,\"category\":\"A3\",\"lat\":38.486318,\"lon\":-77.808960,\"nic\":8,\"rc\":186,\"seen_pos\":4.6,\"version\":2,\"nac_v\":2,\"sil_type\":\"perhour\",\"mlat\":[],\"tisb\":[],\"messages\":1623,\"seen\":4.3,\"rssi\":-16.2},\n",
            "    {\"hex\":\"a677be\",\"flight\":\"JIA5578 \",\"alt_baro\":28275,\"alt_geom\":29600,\"gs\":392.7,\"track\":238.5,\"geom_rate\":832,\"squawk\":\"3341\",\"emergency\":\"none\",\"category\":\"A2\",\"nav_qnh\":1012.8,\"nav_altitude_mcp\":34016,\"lat\":39.667674,\"lon\":-77.260193,\"nic\":8,\"rc\":186,\"seen_pos\":10.8,\"version\":2,\"nic_baro\":1,\"nac_p\":10,\"nac_v\":1,\"sil\":3,\"sil_type\":\"perhour\",\"gva\":2,\"sda\":2,\"mlat\":[],\"tisb\":[],\"messages\":921,\"seen\":2.7,\"rssi\":-16.5},\n",
            "    {\"hex\":\"a87876\",\"flight\":\"GTI8839 \",\"alt_baro\":3750,\"category\":\"A5\",\"version\":2,\"sil_type\":\"perhour\",\"mlat\":[],\"tisb\":[],\"messages\":99,\"seen\":47.9,\"rssi\":-15.9},\n",
            "    {\"hex\":\"aa43c4\",\"flight\":\"RPA3528 \",\"alt_baro\":30975,\"alt_geom\":32325,\"gs\":495.9,\"track\":49.7,\"baro_rate\":-832,\"squawk\":\"2171\",\"emergency\":\"none\",\"category\":\"A3\",\"nav_qnh\":1013.6,\"nav_altitude_mcp\":27008,\"nav_modes\":[\"autopilot\",\"vnav\",\"tcas\"],\"lat\":38.853010,\"lon\":-76.723083,\"nic\":8,\"rc\":186,\"seen_pos\":1.9,\"version\":2,\"nic_baro\":1,\"nac_p\":10,\"nac_v\":2,\"sil\":3,\"sil_type\":\"perhour\",\"gva\":2,\"sda\":2,\"mlat\":[],\"tisb\":[],\"messages\":3743,\"seen\":1.3,\"rssi\":-13.7},\n",
            "    {\"hex\":\"acb1f8\",\"category\":\"A2\",\"version\":2,\"sil_type\":\"perhour\",\"mlat\":[],\"tisb\":[],\"messages\":2045,\"seen\":166.9,\"rssi\":-14.6},\n",
            "    {\"hex\":\"a2da7f\",\"flight\":\"PWR3    \",\"alt_baro\":3775,\"alt_geom\":4025,\"gs\":234.3,\"track\":51.8,\"geom_rate\":-128,\"squawk\":\"7324\",\"emergency\":\"none\",\"category\":\"A2\",\"nav_qnh\":1022.4,\"nav_altitude_mcp\":4000,\"nav_heading\":90.0,\"lat\":39.141495,\"lon\":-77.559715,\"nic\":8,\"rc\":186,\"seen_pos\":5.6,\"version\":2,\"nic_baro\":1,\"nac_p\":10,\"nac_v\":1,\"sil\":3,\"sil_type\":\"perhour\",\"gva\":2,\"sda\":2,\"mlat\":[],\"tisb\":[],\"messages\":3646,\"seen\":0.3,\"rssi\":-12.8},\n",
            "    {\"hex\":\"a1bd4d\",\"flight\":\"AVL211  \",\"alt_baro\":4750,\"alt_geom\":4950,\"gs\":101.1,\"track\":205.8,\"baro_rate\":-128,\"squawk\":\"4642\",\"emergency\":\"none\",\"category\":\"A1\",\"nav_qnh\":1021.6,\"nav_altitude_mcp\":4992,\"nav_heading\":208.1,\"lat\":38.965527,\"lon\":-77.731689,\"nic\":9,\"rc\":75,\"seen_pos\":19.0,\"version\":2,\"nic_baro\":1,\"nac_p\":10,\"nac_v\":2,\"sil\":3,\"sil_type\":\"perhour\",\"gva\":2,\"sda\":2,\"mlat\":[],\"tisb\":[],\"messages\":973,\"seen\":17.6,\"rssi\":-16.6},\n",
            "    {\"hex\":\"a97310\",\"alt_baro\":28125,\"category\":\"A3\",\"version\":2,\"sil_type\":\"perhour\",\"mlat\":[],\"tisb\":[],\"messages\":1962,\"seen\":14.7,\"rssi\":-16.5},\n",
            "    {\"hex\":\"adbaca\",\"alt_baro\":32000,\"version\":2,\"sil_type\":\"perhour\",\"mlat\":[],\"tisb\":[],\"messages\":126,\"seen\":11.8,\"rssi\":-18.7},\n",
            "    {\"hex\":\"a38cd2\",\"alt_baro\":5750,\"alt_geom\":6100,\"gs\":232.6,\"track\":183.9,\"baro_rate\":0,\"category\":\"A3\",\"nav_qnh\":1022.4,\"nav_altitude_mcp\":6016,\"nav_modes\":[\"autopilot\",\"althold\",\"tcas\"],\"lat\":39.005701,\"lon\":-76.851562,\"nic\":8,\"rc\":186,\"seen_pos\":3.7,\"version\":2,\"nic_baro\":1,\"nac_p\":10,\"nac_v\":2,\"sil\":3,\"sil_type\":\"perhour\",\"gva\":2,\"sda\":2,\"mlat\":[],\"tisb\":[],\"messages\":1558,\"seen\":3.2,\"rssi\":-16.3},\n",
            "    {\"hex\":\"a4f1e5\",\"flight\":\"AAL655  \",\"alt_baro\":32000,\"alt_geom\":33425,\"gs\":410.2,\"track\":238.6,\"baro_rate\":0,\"squawk\":\"1147\",\"emergency\":\"none\",\"category\":\"A3\",\"nav_qnh\":1012.8,\"nav_altitude_mcp\":32000,\"lat\":39.440173,\"lon\":-77.733337,\"nic\":8,\"rc\":186,\"seen_pos\":2.8,\"version\":2,\"nic_baro\":1,\"nac_p\":9,\"nac_v\":1,\"sil\":3,\"sil_type\":\"perhour\",\"gva\":2,\"sda\":3,\"mlat\":[],\"tisb\":[],\"messages\":1440,\"seen\":2.4,\"rssi\":-9.3},\n",
            "    {\"hex\":\"a071c8\",\"flight\":\"DAL2412 \",\"alt_baro\":38000,\"alt_geom\":39675,\"gs\":376.9,\"track\":225.1,\"geom_rate\":0,\"squawk\":\"3350\",\"emergency\":\"none\",\"category\":\"A3\",\"nav_qnh\":1012.8,\"nav_altitude_mcp\":38016,\"nav_heading\":242.6,\"lat\":39.034836,\"lon\":-76.943406,\"nic\":8,\"rc\":186,\"seen_pos\":0.6,\"version\":2,\"nic_baro\":1,\"nac_p\":10,\"nac_v\":1,\"sil\":3,\"sil_type\":\"perhour\",\"gva\":2,\"sda\":2,\"mlat\":[],\"tisb\":[],\"messages\":5175,\"seen\":0.2,\"rssi\":-10.6},\n",
            "    {\"hex\":\"a40312\",\"flight\":\"FFT3355 \",\"alt_baro\":34025,\"alt_geom\":35600,\"gs\":407.3,\"track\":225.0,\"baro_rate\":0,\"squawk\":\"2673\",\"emergency\":\"none\",\"category\":\"A3\",\"nav_qnh\":1012.8,\"nav_altitude_mcp\":34016,\"lat\":38.857498,\"lon\":-77.171611,\"nic\":8,\"rc\":186,\"seen_pos\":0.2,\"version\":2,\"nic_baro\":1,\"nac_p\":10,\"nac_v\":4,\"sil\":3,\"sil_type\":\"perhour\",\"gva\":2,\"sda\":3,\"mlat\":[],\"tisb\":[],\"messages\":5146,\"seen\":0.0,\"rssi\":-4.9},\n",
            "    {\"hex\":\"aca6c9\",\"flight\":\"WMN914  \",\"alt_baro\":32625,\"alt_geom\":34100,\"gs\":381.9,\"track\":253.4,\"geom_rate\":2176,\"squawk\":\"7012\",\"emergency\":\"none\",\"category\":\"A2\",\"nav_qnh\":1012.8,\"nav_altitude_mcp\":34016,\"nav_heading\":265.1,\"lat\":38.901331,\"lon\":-78.004761,\"nic\":8,\"rc\":186,\"seen_pos\":0.3,\"version\":2,\"nic_baro\":1,\"nac_p\":10,\"nac_v\":1,\"sil\":3,\"sil_type\":\"perhour\",\"gva\":2,\"sda\":2,\"mlat\":[],\"tisb\":[],\"messages\":6220,\"seen\":0.1,\"rssi\":-10.4},\n",
            "    {\"hex\":\"a2147c\",\"gs\":507.4,\"track\":42.7,\"baro_rate\":-64,\"category\":\"A3\",\"version\":2,\"nac_v\":2,\"sil_type\":\"perhour\",\"mlat\":[],\"tisb\":[],\"messages\":1405,\"seen\":62.8,\"rssi\":-17.5},\n",
            "    {\"hex\":\"ad33e7\",\"flight\":\"N95SJ   \",\"alt_baro\":1775,\"alt_geom\":1925,\"gs\":169.2,\"track\":182.7,\"baro_rate\":64,\"squawk\":\"4177\",\"emergency\":\"none\",\"category\":\"A2\",\"nav_qnh\":1022.4,\"nav_altitude_mcp\":2016,\"nav_modes\":[\"autopilot\",\"althold\",\"tcas\"],\"lat\":39.094711,\"lon\":-77.457196,\"nic\":8,\"rc\":186,\"seen_pos\":1.5,\"version\":2,\"nic_baro\":1,\"nac_p\":10,\"nac_v\":2,\"sil\":3,\"sil_type\":\"perhour\",\"gva\":2,\"sda\":2,\"mlat\":[],\"tisb\":[],\"messages\":3346,\"seen\":0.7,\"rssi\":-10.9},\n",
            "    {\"hex\":\"a2e516\",\"flight\":\"N286JJ  \",\"alt_baro\":25225,\"alt_geom\":26475,\"gs\":497.9,\"track\":45.8,\"geom_rate\":-2560,\"squawk\":\"3443\",\"emergency\":\"none\",\"category\":\"A2\",\"nav_qnh\":1013.6,\"nav_altitude_mcp\":24000,\"nav_heading\":56.2,\"lat\":39.273972,\"lon\":-76.293600,\"nic\":8,\"rc\":186,\"seen_pos\":1.1,\"version\":2,\"nic_baro\":1,\"nac_p\":10,\"nac_v\":1,\"sil\":3,\"sil_type\":\"perhour\",\"gva\":2,\"sda\":2,\"mlat\":[],\"tisb\":[],\"messages\":5443,\"seen\":0.2,\"rssi\":-12.4},\n",
            "    {\"hex\":\"ae695e\",\"alt_baro\":16200,\"mlat\":[],\"tisb\":[],\"messages\":3954,\"seen\":0.1,\"rssi\":-13.7},\n",
            "    {\"hex\":\"ac857b\",\"category\":\"A2\",\"version\":2,\"sil_type\":\"perhour\",\"mlat\":[],\"tisb\":[],\"messages\":2519,\"seen\":205.6,\"rssi\":-17.4},\n",
            "    {\"hex\":\"a44b56\",\"flight\":\"DAL1514 \",\"alt_baro\":34000,\"alt_geom\":35625,\"gs\":408.7,\"track\":225.0,\"baro_rate\":0,\"squawk\":\"1767\",\"emergency\":\"none\",\"category\":\"A3\",\"nav_qnh\":1013.6,\"nav_altitude_mcp\":34016,\"nav_heading\":0.0,\"lat\":38.750381,\"lon\":-77.308462,\"nic\":8,\"rc\":186,\"seen_pos\":0.1,\"version\":2,\"nic_baro\":1,\"nac_p\":9,\"nac_v\":1,\"sil\":3,\"sil_type\":\"perhour\",\"gva\":2,\"sda\":2,\"mlat\":[],\"tisb\":[],\"messages\":7547,\"seen\":0.1,\"rssi\":-2.1},\n",
            "    {\"hex\":\"a2e045\",\"gs\":506.7,\"track\":42.6,\"baro_rate\":-2560,\"category\":\"A3\",\"version\":2,\"nac_v\":1,\"sil_type\":\"perhour\",\"mlat\":[],\"tisb\":[],\"messages\":2760,\"seen\":69.5,\"rssi\":-15.9},\n",
            "    {\"hex\":\"a19f29\",\"category\":\"A3\",\"version\":2,\"sil_type\":\"perhour\",\"mlat\":[],\"tisb\":[],\"messages\":667,\"seen\":138.0,\"rssi\":-17.9},\n",
            "    {\"hex\":\"ab6906\",\"category\":\"A1\",\"version\":2,\"sil_type\":\"perhour\",\"mlat\":[],\"tisb\":[],\"messages\":5811,\"seen\":108.9,\"rssi\":-14.4},\n",
            "    {\"hex\":\"a4ef54\",\"gs\":175.0,\"track\":233.1,\"baro_rate\":1152,\"category\":\"A1\",\"version\":2,\"nac_v\":2,\"sil_type\":\"perhour\",\"mlat\":[],\"tisb\":[],\"messages\":1734,\"seen\":29.4,\"rssi\":-16.1},\n",
            "    {\"hex\":\"a64df2\",\"category\":\"A2\",\"version\":2,\"sil_type\":\"perhour\",\"mlat\":[],\"tisb\":[],\"messages\":1032,\"seen\":210.0,\"rssi\":-14.8},\n",
            "    {\"hex\":\"ac98ac\",\"category\":\"A3\",\"version\":2,\"sil_type\":\"perhour\",\"mlat\":[],\"tisb\":[],\"messages\":2656,\"seen\":177.1,\"rssi\":-13.9},\n",
            "    {\"hex\":\"a4105b\",\"category\":\"A3\",\"version\":2,\"sil_type\":\"perhour\",\"mlat\":[],\"tisb\":[],\"messages\":2105,\"seen\":210.3,\"rssi\":-17.8},\n",
            "    {\"hex\":\"a536dd\",\"flight\":\"JTZ435  \",\"alt_baro\":43000,\"alt_geom\":44575,\"gs\":349.1,\"track\":250.9,\"baro_rate\":0,\"squawk\":\"3360\",\"emergency\":\"none\",\"category\":\"A1\",\"nav_qnh\":1013.6,\"nav_altitude_mcp\":43008,\"nav_modes\":[\"althold\",\"tcas\"],\"lat\":39.586533,\"lon\":-77.512247,\"nic\":9,\"rc\":75,\"seen_pos\":3.2,\"version\":2,\"nic_baro\":1,\"nac_p\":10,\"nac_v\":2,\"sil\":3,\"sil_type\":\"perhour\",\"gva\":2,\"sda\":3,\"mlat\":[],\"tisb\":[],\"messages\":3335,\"seen\":0.6,\"rssi\":-14.9},\n",
            "    {\"hex\":\"a708de\",\"category\":\"A1\",\"version\":2,\"sil_type\":\"perhour\",\"mlat\":[],\"tisb\":[],\"messages\":2044,\"seen\":210.5,\"rssi\":-17.1},\n",
            "    {\"hex\":\"a114f4\",\"flight\":\"AAL9834 \",\"category\":\"A3\",\"version\":2,\"sil_type\":\"perhour\",\"mlat\":[],\"tisb\":[],\"messages\":183,\"seen\":0.5,\"rssi\":-16.9},\n",
            "    {\"hex\":\"aa7718\",\"flight\":\"SWA4914 \",\"alt_baro\":38000,\"alt_geom\":39650,\"gs\":385.2,\"track\":222.1,\"baro_rate\":0,\"squawk\":\"7024\",\"emergency\":\"none\",\"category\":\"A3\",\"nav_qnh\":1013.6,\"nav_altitude_mcp\":38016,\"nav_heading\":241.9,\"lat\":38.680435,\"lon\":-77.391994,\"nic\":8,\"rc\":186,\"seen_pos\":0.6,\"version\":2,\"nic_baro\":1,\"nac_p\":10,\"nac_v\":2,\"sil\":3,\"sil_type\":\"perhour\",\"gva\":2,\"sda\":2,\"mlat\":[],\"tisb\":[],\"messages\":6736,\"seen\":0.3,\"rssi\":-3.0},\n",
            "    {\"hex\":\"abe65a\",\"category\":\"A3\",\"version\":2,\"sil_type\":\"perhour\",\"mlat\":[],\"tisb\":[],\"messages\":3809,\"seen\":120.0,\"rssi\":-17.7},\n",
            "    {\"hex\":\"ac7160\",\"alt_baro\":41000,\"alt_geom\":42525,\"gs\":505.5,\"track\":23.7,\"geom_rate\":0,\"category\":\"A2\",\"lat\":40.048844,\"lon\":-76.894871,\"nic\":8,\"rc\":186,\"seen_pos\":33.1,\"version\":2,\"nic_baro\":1,\"nac_p\":10,\"nac_v\":1,\"sil\":3,\"sil_type\":\"perhour\",\"gva\":2,\"sda\":2,\"mlat\":[],\"tisb\":[],\"messages\":6037,\"seen\":25.3,\"rssi\":-18.0},\n",
            "    {\"hex\":\"a36f1d\",\"category\":\"A2\",\"version\":2,\"sil_type\":\"perhour\",\"mlat\":[],\"tisb\":[],\"messages\":2252,\"seen\":263.5,\"rssi\":-15.9},\n",
            "    {\"hex\":\"ab2c04\",\"flight\":\"AAL801  \",\"alt_baro\":36000,\"alt_geom\":37675,\"gs\":397.4,\"track\":217.3,\"baro_rate\":0,\"squawk\":\"1774\",\"emergency\":\"none\",\"category\":\"A3\",\"nav_qnh\":1013.6,\"nav_altitude_mcp\":36000,\"nav_heading\":234.8,\"lat\":38.343567,\"lon\":-77.839011,\"nic\":8,\"rc\":186,\"seen_pos\":0.2,\"version\":2,\"nic_baro\":1,\"nac_p\":9,\"nac_v\":1,\"sil\":3,\"sil_type\":\"perhour\",\"gva\":2,\"sda\":2,\"mlat\":[],\"tisb\":[],\"messages\":8634,\"seen\":0.2,\"rssi\":-14.8},\n",
            "    {\"hex\":\"a44166\",\"category\":\"A3\",\"version\":2,\"sil_type\":\"perhour\",\"mlat\":[],\"tisb\":[],\"messages\":3826,\"seen\":124.3,\"rssi\":-18.2},\n",
            "    {\"hex\":\"ab30f0\",\"category\":\"A3\",\"version\":2,\"sil_type\":\"perhour\",\"mlat\":[],\"tisb\":[],\"messages\":363,\"seen\":171.9,\"rssi\":-17.0},\n",
            "    {\"hex\":\"a4910c\",\"category\":\"A1\",\"nav_qnh\":1024.0,\"nav_altitude_mcp\":17504,\"nav_modes\":[\"althold\"],\"version\":2,\"nic_baro\":1,\"nac_p\":10,\"sil\":3,\"sil_type\":\"perhour\",\"mlat\":[],\"tisb\":[],\"messages\":516,\"seen\":39.5,\"rssi\":-18.0},\n",
            "    {\"hex\":\"a9fc34\",\"category\":\"A3\",\"version\":2,\"sil_type\":\"perhour\",\"mlat\":[],\"tisb\":[],\"messages\":5379,\"seen\":228.0,\"rssi\":-15.4},\n",
            "    {\"hex\":\"acb21b\",\"category\":\"A2\",\"version\":2,\"sil_type\":\"perhour\",\"mlat\":[],\"tisb\":[],\"messages\":5788,\"seen\":75.9,\"rssi\":-18.0},\n",
            "    {\"hex\":\"a1d93b\",\"category\":\"A3\",\"version\":2,\"sil_type\":\"perhour\",\"mlat\":[],\"tisb\":[],\"messages\":4799,\"seen\":99.0,\"rssi\":-17.8},\n",
            "    {\"hex\":\"a3c3e0\",\"alt_baro\":34000,\"alt_geom\":35575,\"gs\":407.2,\"track\":233.2,\"baro_rate\":0,\"category\":\"A4\",\"version\":2,\"nac_v\":1,\"sil_type\":\"perhour\",\"mlat\":[],\"tisb\":[],\"messages\":10168,\"seen\":2.3,\"rssi\":-17.5},\n",
            "    {\"hex\":\"a5d668\",\"alt_baro\":36000,\"alt_geom\":37700,\"gs\":400.6,\"track\":220.8,\"baro_rate\":0,\"category\":\"A3\",\"nav_qnh\":1013.6,\"nav_altitude_mcp\":36000,\"nav_heading\":239.1,\"version\":2,\"nic_baro\":1,\"nac_p\":10,\"nac_v\":2,\"sil\":3,\"sil_type\":\"perhour\",\"mlat\":[],\"tisb\":[],\"messages\":9800,\"seen\":0.6,\"rssi\":-17.0},\n",
            "    {\"hex\":\"a7db41\",\"flight\":\"EJA605  \",\"alt_baro\":40000,\"alt_geom\":41525,\"gs\":337.6,\"track\":253.7,\"baro_rate\":0,\"category\":\"A2\",\"lat\":39.823700,\"lon\":-78.989669,\"nic\":8,\"rc\":186,\"seen_pos\":21.4,\"version\":2,\"nac_v\":2,\"sil_type\":\"perhour\",\"mlat\":[],\"tisb\":[],\"messages\":1176,\"seen\":19.9,\"rssi\":-16.3},\n",
            "    {\"hex\":\"ad526c\",\"flight\":\"AAL1802 \",\"alt_baro\":35275,\"alt_geom\":36850,\"gs\":378.7,\"track\":253.4,\"baro_rate\":1024,\"squawk\":\"1553\",\"emergency\":\"none\",\"category\":\"A3\",\"nav_qnh\":1013.6,\"nav_altitude_mcp\":36000,\"nav_heading\":263.0,\"lat\":39.031026,\"lon\":-78.897217,\"nic\":8,\"rc\":186,\"seen_pos\":7.8,\"version\":2,\"nic_baro\":1,\"nac_p\":9,\"nac_v\":1,\"sil\":3,\"sil_type\":\"perhour\",\"gva\":2,\"sda\":2,\"mlat\":[],\"tisb\":[],\"messages\":6181,\"seen\":6.4,\"rssi\":-17.2},\n",
            "    {\"hex\":\"a52844\",\"category\":\"A2\",\"version\":2,\"sil_type\":\"perhour\",\"mlat\":[],\"tisb\":[],\"messages\":10255,\"seen\":35.4,\"rssi\":-14.7},\n",
            "    {\"hex\":\"a08f62\",\"category\":\"A2\",\"version\":2,\"sil_type\":\"perhour\",\"mlat\":[],\"tisb\":[],\"messages\":7563,\"seen\":173.8,\"rssi\":-18.0},\n",
            "    {\"hex\":\"a03f1e\",\"category\":\"A3\",\"version\":2,\"sil_type\":\"perhour\",\"mlat\":[],\"tisb\":[],\"messages\":12370,\"seen\":114.3,\"rssi\":-17.6},\n",
            "    {\"hex\":\"a1696b\",\"alt_baro\":36000,\"alt_geom\":37725,\"gs\":381.0,\"track\":238.0,\"baro_rate\":0,\"category\":\"A3\",\"version\":2,\"nac_v\":2,\"sil_type\":\"perhour\",\"mlat\":[],\"tisb\":[],\"messages\":11019,\"seen\":17.6,\"rssi\":-18.2}\n",
            "  ]\n",
            "}\n",
            "\n"
          ]
        }
      ]
    },
    {
      "cell_type": "code",
      "source": [],
      "metadata": {
        "id": "Li9WK8MJEEWu"
      },
      "execution_count": null,
      "outputs": []
    }
  ]
}